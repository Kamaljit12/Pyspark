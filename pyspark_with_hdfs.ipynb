{
 "cells": [
  {
   "cell_type": "markdown",
   "id": "ce8b02cb",
   "metadata": {},
   "source": [
    "## Working with hdfs"
   ]
  },
  {
   "cell_type": "code",
   "execution_count": 1,
   "id": "df552e15",
   "metadata": {},
   "outputs": [],
   "source": [
    "from pyspark.sql import SparkSession"
   ]
  },
  {
   "cell_type": "code",
   "execution_count": 2,
   "id": "ead6f220",
   "metadata": {},
   "outputs": [],
   "source": [
    "spark = SparkSession.builder.appName(\"TestApp\").getOrCreate()"
   ]
  },
  {
   "cell_type": "code",
   "execution_count": 3,
   "id": "8c01c27c",
   "metadata": {},
   "outputs": [
    {
     "data": {
      "text/html": [
       "\n",
       "            <div>\n",
       "                <p><b>SparkSession - in-memory</b></p>\n",
       "                \n",
       "        <div>\n",
       "            <p><b>SparkContext</b></p>\n",
       "\n",
       "            <p><a href=\"http://DESKTOP-QPQ92SI:4040\">Spark UI</a></p>\n",
       "\n",
       "            <dl>\n",
       "              <dt>Version</dt>\n",
       "                <dd><code>v3.4.1</code></dd>\n",
       "              <dt>Master</dt>\n",
       "                <dd><code>local[*]</code></dd>\n",
       "              <dt>AppName</dt>\n",
       "                <dd><code>TestApp</code></dd>\n",
       "            </dl>\n",
       "        </div>\n",
       "        \n",
       "            </div>\n",
       "        "
      ],
      "text/plain": [
       "<pyspark.sql.session.SparkSession at 0x249b5250610>"
      ]
     },
     "execution_count": 3,
     "metadata": {},
     "output_type": "execute_result"
    }
   ],
   "source": [
    "spark"
   ]
  },
  {
   "cell_type": "code",
   "execution_count": null,
   "id": "e7be604e",
   "metadata": {},
   "outputs": [],
   "source": []
  },
  {
   "cell_type": "code",
   "execution_count": 10,
   "id": "fc86bb62",
   "metadata": {},
   "outputs": [],
   "source": [
    "df = spark.read.csv(path='hdfs://localhost:9000/data', header=True)"
   ]
  },
  {
   "cell_type": "code",
   "execution_count": 11,
   "id": "c994c8b2",
   "metadata": {},
   "outputs": [
    {
     "name": "stdout",
     "output_type": "stream",
     "text": [
      "+--------------------+-------------+--------------------+--------------------+-------------------+------+-------------+\n",
      "|            order_id|order_item_id|          product_id|           seller_id|shipping_limit_date| price|freight_value|\n",
      "+--------------------+-------------+--------------------+--------------------+-------------------+------+-------------+\n",
      "|00010242fe8c5a6d1...|            1|4244733e06e7ecb49...|48436dade18ac8b2b...|2017-09-19 09:45:35| 58.90|        13.29|\n",
      "|00018f77f2f0320c5...|            1|e5f2d52b802189ee6...|dd7ddc04e1b6c2c61...|2017-05-03 11:05:13|239.90|        19.93|\n",
      "|000229ec398224ef6...|            1|c777355d18b72b67a...|5b51032eddd242adc...|2018-01-18 14:48:30|199.00|        17.87|\n",
      "|00024acbcdf0a6daa...|            1|7634da152a4610f15...|9d7a1d34a50524090...|2018-08-15 10:10:18| 12.99|        12.79|\n",
      "|00042b26cf59d7ce6...|            1|ac6c3623068f30de0...|df560393f3a51e745...|2017-02-13 13:57:51|199.90|        18.14|\n",
      "|00048cc3ae777c65d...|            1|ef92defde845ab845...|6426d21aca402a131...|2017-05-23 03:55:27| 21.90|        12.69|\n",
      "|00054e8431b9d7675...|            1|8d4f2bb7e93e6710a...|7040e82f899a04d1b...|2017-12-14 12:10:31| 19.90|        11.85|\n",
      "|000576fe39319847c...|            1|557d850972a7d6f79...|5996cddab893a4652...|2018-07-10 12:30:45|810.00|        70.75|\n",
      "|0005a1a1728c9d785...|            1|310ae3c140ff94b03...|a416b6a846a117243...|2018-03-26 18:31:29|145.95|        11.65|\n",
      "|0005f50442cb953dc...|            1|4535b0e1091c278df...|ba143b05f0110f0dc...|2018-07-06 14:10:56| 53.99|        11.40|\n",
      "|00061f2a7bc09da83...|            1|d63c1011f49d98b97...|cc419e0650a3c5ba7...|2018-03-29 22:28:09| 59.99|         8.88|\n",
      "|00063b381e2406b52...|            1|f177554ea93259a5b...|8602a61d680a10a82...|2018-07-31 17:30:39| 45.00|        12.98|\n",
      "|0006ec9db01a64e59...|            1|99a4788cb24856965...|4a3ca9315b744ce9f...|2018-07-26 17:24:20| 74.00|        23.32|\n",
      "|0008288aa423d2a3f...|            1|368c6c730842d7801...|1f50f920176fa81da...|2018-02-21 02:55:52| 49.90|        13.37|\n",
      "|0008288aa423d2a3f...|            2|368c6c730842d7801...|1f50f920176fa81da...|2018-02-21 02:55:52| 49.90|        13.37|\n",
      "|0009792311464db53...|            1|8cab8abac59158715...|530ec6109d11eaaf8...|2018-08-17 12:15:10| 99.90|        27.65|\n",
      "|0009c9a17f916a706...|            1|3f27ac8e699df3d30...|fcb5ace8bcc92f757...|2018-05-02 09:31:53|639.00|        11.34|\n",
      "|000aed2e25dbad2f9...|            1|4fa33915031a8cde0...|fe2032dab1a61af87...|2018-05-16 20:57:03|144.00|         8.77|\n",
      "|000c3e6612759851c...|            1|b50c950aba0dcead2...|218d46b86c1881d02...|2017-08-21 03:33:13| 99.00|        13.71|\n",
      "|000e562887b1f2006...|            1|5ed9eaf534f6936b5...|8cbac7e12637ed9cf...|2018-02-28 12:08:37| 25.00|        16.11|\n",
      "+--------------------+-------------+--------------------+--------------------+-------------------+------+-------------+\n",
      "only showing top 20 rows\n",
      "\n"
     ]
    }
   ],
   "source": [
    "df.show()"
   ]
  },
  {
   "cell_type": "code",
   "execution_count": 25,
   "id": "6522c217",
   "metadata": {},
   "outputs": [
    {
     "name": "stdout",
     "output_type": "stream",
     "text": [
      "Found 2 items\n",
      "drwxr-xr-x   - kamal supergroup          0 2023-10-04 17:13 /data\n",
      "drwxr-xr-x   - kamal supergroup          0 2023-10-31 15:13 /salesData\n"
     ]
    }
   ],
   "source": [
    "!hadoop fs -ls /"
   ]
  },
  {
   "cell_type": "code",
   "execution_count": 27,
   "id": "6a853b83",
   "metadata": {},
   "outputs": [
    {
     "name": "stdout",
     "output_type": "stream",
     "text": [
      "Found 1 items\n",
      "-rw-r--r--   1 kamal supergroup     527958 2023-10-31 15:13 /salesData/sales.csv\n"
     ]
    }
   ],
   "source": [
    "!hadoop fs -ls /salesData/"
   ]
  },
  {
   "cell_type": "code",
   "execution_count": 14,
   "id": "20641eab",
   "metadata": {},
   "outputs": [],
   "source": [
    "!hadoop fs -mkdir /salesData"
   ]
  },
  {
   "cell_type": "code",
   "execution_count": 24,
   "id": "df8a52f3",
   "metadata": {},
   "outputs": [],
   "source": [
    "!hadoop fs -put C:\\Users\\kamal\\Desktop\\sales.csv /salesData"
   ]
  },
  {
   "cell_type": "code",
   "execution_count": 16,
   "id": "3ed00abc",
   "metadata": {},
   "outputs": [
    {
     "data": {
      "text/plain": [
       "'C:\\\\Users\\\\kamal\\\\Desktop\\\\Data\\\\pyspark_important'"
      ]
     },
     "execution_count": 16,
     "metadata": {},
     "output_type": "execute_result"
    }
   ],
   "source": [
    "pwd"
   ]
  },
  {
   "cell_type": "code",
   "execution_count": 23,
   "id": "6e68213d",
   "metadata": {},
   "outputs": [
    {
     "name": "stdout",
     "output_type": "stream",
     "text": [
      " Volume in drive C has no label.\n",
      " Volume Serial Number is B64D-E0B6\n",
      "\n",
      " Directory of C:\\Users\\kamal\\Desktop\n",
      "\n",
      "30-10-2023  16:34    <DIR>          .\n",
      "30-10-2023  16:34    <DIR>          ..\n",
      "29-10-2023  15:35            54,991 0_X1I3rXiHQHa9nMLa.png\n",
      "30-09-2021  18:10    <DIR>          100-days-of-machine-learning-main\n",
      "29-10-2023  15:34            84,588 1_c8CtvqKJDVUnMoPGujF5fA.png\n",
      "29-10-2023  15:34            18,072 1_nPcdyVwgcuEZiEZiRqApug.jpg\n",
      "04-10-2023  21:58             6,479 Account_Statement_040923_031023.xls\n",
      "21-10-2023  16:25    <DIR>          airflow_tutorial\n",
      "09-10-2023  11:25    <DIR>          All-CSV\n",
      "04-10-2023  17:52        31,111,361 apache-cassandra-3.11.16-bin.tar.gz\n",
      "26-08-2023  12:06               242 AWS.txt\n",
      "24-10-2023  16:32    <DIR>          books\n",
      "23-10-2023  14:19    <DIR>          Campusx\n",
      "01-10-2023  17:23    <DIR>          Cassandra-main\n",
      "30-09-2023  15:33    <DIR>          Confluent_Kafka-main\n",
      "06-10-2023  14:44    <DIR>          Data\n",
      "30-10-2023  16:34            11,891 data engineering syllabu.xlsx\n",
      "04-10-2023  22:40            70,130 data-engineering-workflow-and-ecosystem.webp\n",
      "04-10-2023  22:39            56,246 data-integration-and-data-engineering-streamsets.webp\n",
      "04-10-2023  22:41            11,568 Data-pipeline.webp\n",
      "27-09-2023  21:51    <DIR>          DataEngineer\n",
      "21-10-2023  17:26             2,136 Docker Desktop.lnk\n",
      "11-02-2020  14:51    <DIR>          docker-airflow-master\n",
      "23-08-2023  20:42           443,371 flights_cleaned.xlsx\n",
      "13-10-2023  15:49         1,350,264 Food_censes.docx\n",
      "27-10-2023  10:19    <DIR>          Hadoop_Hive_Spark_Docker_Setup-main\n",
      "05-10-2023  17:08    <DIR>          kafa_assignment_solution\n",
      "07-10-2023  17:56    <DIR>          kafka-assignment\n",
      "28-10-2023  20:35             1,479 kafka.txt\n",
      "27-10-2023  10:14    <DIR>          Kafka_Assignment_Solution\n",
      "17-10-2023  20:44    <DIR>          kamal\n",
      "24-08-2023  11:14           895,869 Kam_res.pdf\n",
      "27-09-2023  21:51    <DIR>          kpmg\n",
      "11-09-2023  14:31           226,094 KPMGcompletion_certificate.pdf\n",
      "27-09-2023  21:51    <DIR>          ML\n",
      "04-10-2023  14:52             1,772 new 1.txt\n",
      "28-10-2023  11:00               383 New Text Document (2).txt\n",
      "27-10-2023  17:55               609 New Text Document.txt\n",
      "19-10-2023  16:03    <DIR>          ppt\n",
      "31-10-2023  15:08    <DIR>          pyspark\n",
      "04-10-2023  17:29    <DIR>          Pyspark-With-Python-main\n",
      "24-08-2023  11:15           614,658 Resume.pdf\n",
      "20-09-2019  02:04           527,958 sales.csv\n",
      "23-10-2023  22:26    <DIR>          Song\n",
      "27-09-2023  21:51    <DIR>          Spark-test\n",
      "04-10-2023  15:49    <DIR>          spark_steraming\n",
      "29-10-2023  15:11    <DIR>          stock-market-kafka-data-engineering-project-main\n",
      "28-10-2023  16:48         2,632,831 stock-market-kafka-data-engineering-project-main.zip\n",
      "28-10-2023  19:48    <DIR>          store\n",
      "28-10-2023  11:01             2,154 twitter-airflow-data-engineering-project-main.zip\n",
      "26-09-2023  16:59    <DIR>          twitter_project\n",
      "02-09-2023  20:57             1,573 WhatsApp.lnk\n",
      "12-06-2022  08:53           438,158 yt1s.com - Shir Krishna Govind Hare Murari Ringtone.mp3\n",
      "              25 File(s)     38,564,877 bytes\n",
      "              28 Dir(s)  225,577,066,496 bytes free\n"
     ]
    }
   ],
   "source": [
    "!dir C:\\Users\\kamal\\Desktop\\"
   ]
  },
  {
   "cell_type": "code",
   "execution_count": 19,
   "id": "52260467",
   "metadata": {},
   "outputs": [
    {
     "data": {
      "text/plain": [
       "'C:\\\\Users\\\\kamal\\\\Desktop\\\\Data\\\\pyspark_important'"
      ]
     },
     "execution_count": 19,
     "metadata": {},
     "output_type": "execute_result"
    }
   ],
   "source": [
    "pwd"
   ]
  },
  {
   "cell_type": "code",
   "execution_count": 30,
   "id": "7d3a9564",
   "metadata": {},
   "outputs": [
    {
     "name": "stdout",
     "output_type": "stream",
     "text": [
      "+-----------+---------------+---------+---------------+-------+---------------+-------+------+--------+-------+-----------+----+-----------+--------------------+----------------+--------------------+------------+-------------+-----+----------+-------+---------+---------------+----------------+--------+\n",
      "|ORDERNUMBER|QUANTITYORDERED|PRICEEACH|ORDERLINENUMBER|  SALES|      ORDERDATE| STATUS|QTR_ID|MONTH_ID|YEAR_ID|PRODUCTLINE|MSRP|PRODUCTCODE|        CUSTOMERNAME|           PHONE|        ADDRESSLINE1|ADDRESSLINE2|         CITY|STATE|POSTALCODE|COUNTRY|TERRITORY|CONTACTLASTNAME|CONTACTFIRSTNAME|DEALSIZE|\n",
      "+-----------+---------------+---------+---------------+-------+---------------+-------+------+--------+-------+-----------+----+-----------+--------------------+----------------+--------------------+------------+-------------+-----+----------+-------+---------+---------------+----------------+--------+\n",
      "|      10107|             30|     95.7|              2|   2871| 2/24/2003 0:00|Shipped|     1|       2|   2003|Motorcycles|  95|   S10_1678|   Land of Toys Inc.|      2125557818|897 Long Airport ...|        null|          NYC|   NY|     10022|    USA|       NA|             Yu|            Kwai|   Small|\n",
      "|      10121|             34|    81.35|              5| 2765.9|  5/7/2003 0:00|Shipped|     2|       5|   2003|Motorcycles|  95|   S10_1678|  Reims Collectables|      26.47.1555|  59 rue de l'Abbaye|        null|        Reims| null|     51100| France|     EMEA|        Henriot|            Paul|   Small|\n",
      "|      10134|             41|    94.74|              2|3884.34|  7/1/2003 0:00|Shipped|     3|       7|   2003|Motorcycles|  95|   S10_1678|     Lyon Souveniers|+33 1 46 62 7555|27 rue du Colonel...|        null|        Paris| null|     75508| France|     EMEA|       Da Cunha|          Daniel|  Medium|\n",
      "|      10145|             45|    83.26|              6| 3746.7| 8/25/2003 0:00|Shipped|     3|       8|   2003|Motorcycles|  95|   S10_1678|   Toys4GrownUps.com|      6265557265|  78934 Hillside Dr.|        null|     Pasadena|   CA|     90003|    USA|       NA|          Young|           Julie|  Medium|\n",
      "|      10159|             49|      100|             14|5205.27|10/10/2003 0:00|Shipped|     4|      10|   2003|Motorcycles|  95|   S10_1678|Corporate Gift Id...|      6505551386|     7734 Strong St.|        null|San Francisco|   CA|      null|    USA|       NA|          Brown|           Julie|  Medium|\n",
      "+-----------+---------------+---------+---------------+-------+---------------+-------+------+--------+-------+-----------+----+-----------+--------------------+----------------+--------------------+------------+-------------+-----+----------+-------+---------+---------------+----------------+--------+\n",
      "only showing top 5 rows\n",
      "\n"
     ]
    }
   ],
   "source": [
    "df = spark.read.csv(path = 'hdfs://localhost:9000/salesData/sales.csv', header=True)\n",
    "df.show(5)"
   ]
  },
  {
   "cell_type": "code",
   "execution_count": 35,
   "id": "c0eef30e",
   "metadata": {
    "scrolled": false
   },
   "outputs": [
    {
     "data": {
      "text/plain": [
       "['ORDERNUMBER',\n",
       " 'QUANTITYORDERED',\n",
       " 'PRICEEACH',\n",
       " 'ORDERLINENUMBER',\n",
       " 'SALES',\n",
       " 'ORDERDATE',\n",
       " 'STATUS',\n",
       " 'QTR_ID',\n",
       " 'MONTH_ID',\n",
       " 'YEAR_ID',\n",
       " 'PRODUCTLINE',\n",
       " 'MSRP',\n",
       " 'PRODUCTCODE',\n",
       " 'CUSTOMERNAME',\n",
       " 'PHONE',\n",
       " 'ADDRESSLINE1',\n",
       " 'ADDRESSLINE2',\n",
       " 'CITY',\n",
       " 'STATE',\n",
       " 'POSTALCODE',\n",
       " 'COUNTRY',\n",
       " 'TERRITORY',\n",
       " 'CONTACTLASTNAME',\n",
       " 'CONTACTFIRSTNAME',\n",
       " 'DEALSIZE']"
      ]
     },
     "execution_count": 35,
     "metadata": {},
     "output_type": "execute_result"
    }
   ],
   "source": [
    "df.columns"
   ]
  },
  {
   "cell_type": "code",
   "execution_count": 36,
   "id": "934a1a1d",
   "metadata": {},
   "outputs": [],
   "source": [
    "from pyspark.sql.functions import col"
   ]
  },
  {
   "cell_type": "code",
   "execution_count": 45,
   "id": "f11c0c90",
   "metadata": {},
   "outputs": [
    {
     "name": "stdout",
     "output_type": "stream",
     "text": [
      "+--------+--------+---------+\n",
      "|   STATE|   STATE|  COUNTRY|\n",
      "+--------+--------+---------+\n",
      "|      NY|      NY|      USA|\n",
      "|    null|    null|   France|\n",
      "|    null|    null|   France|\n",
      "|      CA|      CA|      USA|\n",
      "|      CA|      CA|      USA|\n",
      "|      CA|      CA|      USA|\n",
      "|    null|    null|   France|\n",
      "|    null|    null|   Norway|\n",
      "|      CA|      CA|      USA|\n",
      "|    null|    null|   France|\n",
      "|Victoria|Victoria|Australia|\n",
      "|      NY|      NY|      USA|\n",
      "|      NJ|      NJ|      USA|\n",
      "|      CT|      CT|      USA|\n",
      "|    null|    null|   France|\n",
      "|      MA|      MA|      USA|\n",
      "|    null|    null|  Finland|\n",
      "|    null|    null|   Norway|\n",
      "|      PA|      PA|      USA|\n",
      "|      NY|      NY|      USA|\n",
      "+--------+--------+---------+\n",
      "only showing top 20 rows\n",
      "\n"
     ]
    }
   ],
   "source": [
    "df.select('STATE', 'STATE', 'COUNTRY').show()"
   ]
  },
  {
   "cell_type": "code",
   "execution_count": null,
   "id": "590002ec",
   "metadata": {},
   "outputs": [],
   "source": []
  },
  {
   "cell_type": "code",
   "execution_count": null,
   "id": "332e8064",
   "metadata": {},
   "outputs": [],
   "source": []
  },
  {
   "cell_type": "code",
   "execution_count": null,
   "id": "7fa351cd",
   "metadata": {},
   "outputs": [],
   "source": []
  }
 ],
 "metadata": {
  "kernelspec": {
   "display_name": "Python 3 (ipykernel)",
   "language": "python",
   "name": "python3"
  },
  "language_info": {
   "codemirror_mode": {
    "name": "ipython",
    "version": 3
   },
   "file_extension": ".py",
   "mimetype": "text/x-python",
   "name": "python",
   "nbconvert_exporter": "python",
   "pygments_lexer": "ipython3",
   "version": "3.11.4"
  }
 },
 "nbformat": 4,
 "nbformat_minor": 5
}
