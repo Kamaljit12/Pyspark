{
 "cells": [
  {
   "cell_type": "code",
   "execution_count": 1,
   "id": "5e098188-daa2-496a-92b1-554e001b2445",
   "metadata": {},
   "outputs": [
    {
     "data": {
      "text/html": [
       "\n",
       "            <div>\n",
       "                <p><b>SparkSession - in-memory</b></p>\n",
       "                \n",
       "        <div>\n",
       "            <p><b>SparkContext</b></p>\n",
       "\n",
       "            <p><a href=\"http://DESKTOP-QPQ92SI.mshome.net:4040\">Spark UI</a></p>\n",
       "\n",
       "            <dl>\n",
       "              <dt>Version</dt>\n",
       "                <dd><code>v3.5.0</code></dd>\n",
       "              <dt>Master</dt>\n",
       "                <dd><code>local[*]</code></dd>\n",
       "              <dt>AppName</dt>\n",
       "                <dd><code>Add Campaign</code></dd>\n",
       "            </dl>\n",
       "        </div>\n",
       "        \n",
       "            </div>\n",
       "        "
      ],
      "text/plain": [
       "<pyspark.sql.session.SparkSession at 0x26b6f934580>"
      ]
     },
     "execution_count": 1,
     "metadata": {},
     "output_type": "execute_result"
    }
   ],
   "source": [
    "from pyspark.sql import SparkSession\n",
    "\n",
    "spark = SparkSession.builder\\\n",
    "        .appName(\"Add Campaign\")\\\n",
    "        .getOrCreate()\n",
    "\n",
    "spark"
   ]
  },
  {
   "cell_type": "code",
   "execution_count": 2,
   "id": "e654e8c3-4c70-4180-a566-de4b79888d7b",
   "metadata": {},
   "outputs": [
    {
     "name": "stdout",
     "output_type": "stream",
     "text": [
      "+----------------+-----------+--------------------+-----------+--------------------+----------+-------+---------+-------------------+\n",
      "|campaign_country|campaign_id|       campaign_name|device_type|          event_time|event_type|os_type| place_id|            user_id|\n",
      "+----------------+-----------+--------------------+-----------+--------------------+----------+-------+---------+-------------------+\n",
      "|             USA|    ABCDFAE|Food category tar...|      apple|2018-10-12T13:10:...|impression|    ios|CASSBB-11|1264374214654454321|\n",
      "|             USA|    ABCDFAE|Food category tar...|   MOTOROLA|2018-10-12T13:09:...|impression|android|CADGBD-13|1674374214654454321|\n",
      "|             USA|    ABCDFAE|Food category tar...|    SAMSUNG|2018-10-12T13:10:...|  video ad|android|BADGBA-12|   5747421465445443|\n",
      "|             USA|    ABCDFAE|Food category tar...|    SAMSUNG|2018-10-12T13:10:...|     click|android|CASSBB-11|1864374214654454132|\n",
      "+----------------+-----------+--------------------+-----------+--------------------+----------+-------+---------+-------------------+\n",
      "\n",
      "+---------+--------------------+-------+------+-------------------+\n",
      "|age_group|            category|country|gender|            user_id|\n",
      "+---------+--------------------+-------+------+-------------------+\n",
      "|    18-25|  [shopper, student]|    USA|  male|1264374214654454321|\n",
      "|    25-50|            [parent]|    USA|female|1674374214654454321|\n",
      "|    25-50|[shopper, parent,...|    USA|  male|   5747421465445443|\n",
      "|      50+|      [professional]|    USA|  male|1864374214654454132|\n",
      "|    18-25|  [shopper, student]|    USA|female|  14537421465445443|\n",
      "|      50+|[shopper, profess...|    USA|female|  25547421465445443|\n",
      "+---------+--------------------+-------+------+-------------------+\n",
      "\n",
      "+--------------------+-------------+\n",
      "|           place_ids|   store_name|\n",
      "+--------------------+-------------+\n",
      "|[CASSBB-11, CADGB...|     McDonald|\n",
      "|         [CASSBB-11]|   BurgerKing|\n",
      "|[BADGBA-13, CASSB...|        Macys|\n",
      "|         [BADGBA-12]|shoppers stop|\n",
      "+--------------------+-------------+\n",
      "\n"
     ]
    }
   ],
   "source": [
    "hdfs_path=\"hdfs://localhost:9000/Pyspark/Marketing_Campaign/\"\n",
    "\n",
    "ad_campaigns_df=spark.read.format(\"json\")\\\n",
    "                .option(\"multiline\", \"true\")\\\n",
    "                .load(hdfs_path+\"ad_campaigns_data.json\")\n",
    "\n",
    "ad_campaigns_df.show()\n",
    "\n",
    "user_profile_df=spark.read.format(\"json\")\\\n",
    "                .option(\"multiline\", \"true\")\\\n",
    "                .load(hdfs_path+\"user_profile_data.json\")\n",
    "user_profile_df.show()\n",
    "\n",
    "\n",
    "store_df=spark.read.format(\"json\")\\\n",
    "                .option(\"multiline\", \"true\")\\\n",
    "                .load(hdfs_path+\"store_data.json\")\n",
    "\n",
    "store_df.show()"
   ]
  },
  {
   "cell_type": "code",
   "execution_count": 3,
   "id": "101cfaf3-5af9-44d2-a084-e57446cde125",
   "metadata": {
    "scrolled": true
   },
   "outputs": [
    {
     "name": "stdout",
     "output_type": "stream",
     "text": [
      "+----------------+-----------+-----------------------------+-----------+------------------------+----------+-------+---------+-------------------+\n",
      "|campaign_country|campaign_id|campaign_name                |device_type|event_time              |event_type|os_type|place_id |user_id            |\n",
      "+----------------+-----------+-----------------------------+-----------+------------------------+----------+-------+---------+-------------------+\n",
      "|USA             |ABCDFAE    |Food category target campaign|apple      |2018-10-12T13:10:05.000Z|impression|ios    |CASSBB-11|1264374214654454321|\n",
      "|USA             |ABCDFAE    |Food category target campaign|MOTOROLA   |2018-10-12T13:09:04.000Z|impression|android|CADGBD-13|1674374214654454321|\n",
      "|USA             |ABCDFAE    |Food category target campaign|SAMSUNG    |2018-10-12T13:10:10.000Z|video ad  |android|BADGBA-12|5747421465445443   |\n",
      "|USA             |ABCDFAE    |Food category target campaign|SAMSUNG    |2018-10-12T13:10:12.000Z|click     |android|CASSBB-11|1864374214654454132|\n",
      "+----------------+-----------+-----------------------------+-----------+------------------------+----------+-------+---------+-------------------+\n",
      "\n"
     ]
    }
   ],
   "source": [
    "\n",
    "ad_campaigns_df.show(truncate=False)"
   ]
  },
  {
   "cell_type": "code",
   "execution_count": 44,
   "id": "260ea9d8-8260-424a-b734-464ab876ae61",
   "metadata": {},
   "outputs": [
    {
     "name": "stdout",
     "output_type": "stream",
     "text": [
      "+-----------+----------+----+-------+----------+------+\n",
      "|campaign_id|      date|hour|os_type|event_type|events|\n",
      "+-----------+----------+----+-------+----------+------+\n",
      "|    ABCDFAE|2018-10-12|  13|    ios|impression|     1|\n",
      "|    ABCDFAE|2018-10-12|  13|android|     click|     1|\n",
      "|    ABCDFAE|2018-10-12|  13|android|impression|     1|\n",
      "|    ABCDFAE|2018-10-12|  13|android|  video ad|     1|\n",
      "+-----------+----------+----+-------+----------+------+\n",
      "\n",
      "+-----------+----------+----+-------+-------+------+----------+---------------+\n",
      "|campaign_id|      date|hour|   type|  value|events|event_type|          event|\n",
      "+-----------+----------+----+-------+-------+------+----------+---------------+\n",
      "|    ABCDFAE|2018-10-12|  13|    ios|    ios|     1|impression|{impression, 1}|\n",
      "|    ABCDFAE|2018-10-12|  13|android|android|     1|     click|     {click, 1}|\n",
      "|    ABCDFAE|2018-10-12|  13|android|android|     1|impression|{impression, 1}|\n",
      "|    ABCDFAE|2018-10-12|  13|android|android|     1|  video ad|  {video ad, 1}|\n",
      "+-----------+----------+----+-------+-------+------+----------+---------------+\n",
      "\n",
      "+-----------+----------+----+-------+-------+--------------------------------------------+--------------------------------------------+\n",
      "|campaign_id|date      |hour|type   |value  |events                                      |event                                       |\n",
      "+-----------+----------+----+-------+-------+--------------------------------------------+--------------------------------------------+\n",
      "|ABCDFAE    |2018-10-12|13  |ios    |ios    |[{impression, 1}]                           |{impression -> 1}                           |\n",
      "|ABCDFAE    |2018-10-12|13  |android|android|[{click, 1}, {impression, 1}, {video ad, 1}]|{click -> 1, impression -> 1, video ad -> 1}|\n",
      "+-----------+----------+----+-------+-------+--------------------------------------------+--------------------------------------------+\n",
      "\n"
     ]
    }
   ],
   "source": [
    "# Q1. Analyse data for each campaign_id, date, hour, os_type & value to get all the events with counts\n",
    "from pyspark.sql.functions import *\n",
    "\n",
    "df=ad_campaigns_df.groupBy(\"campaign_id\",\n",
    "                        substring(col(\"event_time\"), 0, 10).alias(\"date\"),\n",
    "                        substring(col(\"event_time\"),12, 2).alias(\"hour\"),\n",
    "                        col(\"os_type\"),\n",
    "                        col(\"event_type\")\n",
    "                       ).agg(count(\"event_type\").alias(\"events\"))\n",
    "\n",
    "\n",
    "df.show()\n",
    "\n",
    "selected_Exp_df = df.selectExpr(\n",
    "    \"campaign_id\",\n",
    "    \"date\",\n",
    "    \"hour\",\n",
    "    \"os_type as type\",\n",
    "    \"os_type as value\",\n",
    "    \"events\",\n",
    "    \"event_type\",\n",
    "    \"struct(event_type, events) as event\"\n",
    "    \n",
    "    \n",
    ")\n",
    "selected_Exp_df.show()\n",
    "\n",
    "\n",
    "final_df = selected_Exp_df.groupBy(\"campaign_id\", \"date\", \"hour\", \"type\", \"value\")\\\n",
    "            .agg(collect_list(\"event\").alias(\"events\"))\\\n",
    "            .selectExpr(\n",
    "              \"campaign_id\",\n",
    "              \"date\",\n",
    "              \"hour\",\n",
    "              \"type\",\n",
    "              \"value\",\n",
    "              \"events\",\n",
    "              \"map_from_entries(events) as event\"\n",
    "            )\n",
    "\n",
    "final_df.show(truncate=False)\n",
    "\n",
    "# load data to hdfs\n",
    "# ad_campaigns.coalesce(1).write.format('json').save(\"hdfs://localhost:9000/Pyspark/Marketing_Campaign/results/\")\n",
    "# print(\"Write Successfull\")"
   ]
  },
  {
   "cell_type": "code",
   "execution_count": null,
   "id": "5e59ae72-c1e7-4364-8eb6-f488281b11ec",
   "metadata": {},
   "outputs": [],
   "source": [
    "# load data to hdfs\n",
    "# coalesce will merge and save the data in only one csv file\n",
    "ad_campaigns.coalesce(1).write.format('json').save(\"hdfs://localhost:9000/Pyspark/Marketing_Campaign/results/\")\n",
    "print(\"Write Successfull\")"
   ]
  },
  {
   "cell_type": "code",
   "execution_count": 27,
   "id": "bf273d4f-307b-4244-90f5-4ed566d933b9",
   "metadata": {},
   "outputs": [
    {
     "name": "stdout",
     "output_type": "stream",
     "text": [
      "+----------------+-----------+--------------------+-----------+--------------------+----------+-------+---------+-------------------+\n",
      "|campaign_country|campaign_id|       campaign_name|device_type|          event_time|event_type|os_type| place_id|            user_id|\n",
      "+----------------+-----------+--------------------+-----------+--------------------+----------+-------+---------+-------------------+\n",
      "|             USA|    ABCDFAE|Food category tar...|      apple|2018-10-12T13:10:...|impression|    ios|CASSBB-11|1264374214654454321|\n",
      "|             USA|    ABCDFAE|Food category tar...|   MOTOROLA|2018-10-12T13:09:...|impression|android|CADGBD-13|1674374214654454321|\n",
      "|             USA|    ABCDFAE|Food category tar...|    SAMSUNG|2018-10-12T13:10:...|  video ad|android|BADGBA-12|   5747421465445443|\n",
      "|             USA|    ABCDFAE|Food category tar...|    SAMSUNG|2018-10-12T13:10:...|     click|android|CASSBB-11|1864374214654454132|\n",
      "+----------------+-----------+--------------------+-----------+--------------------+----------+-------+---------+-------------------+\n",
      "\n",
      "+-----------+----------+----+-------+-------+--------------------+\n",
      "|campaign_id|      date|hour|   type|  value|               event|\n",
      "+-----------+----------+----+-------+-------+--------------------+\n",
      "|    ABCDFAE|2018-10-12|  13|os_type|android|{click -> 1, impr...|\n",
      "|    ABCDFAE|2018-10-12|  13|os_type|    ios|   {impression -> 1}|\n",
      "+-----------+----------+----+-------+-------+--------------------+\n",
      "\n"
     ]
    }
   ],
   "source": [
    "from pyspark.sql.functions import *\n",
    "\n",
    "ad_campaigns_df.show()\n",
    "\n",
    "ad_campaigns=ad_campaigns_df.groupBy(\"campaign_id\",\n",
    "                        substring(col(\"event_time\"), 0, 10).alias(\"date\"),\n",
    "                        substring(col(\"event_time\"),12, 2).alias(\"hour\"),\n",
    "                        col(\"os_type\"),\n",
    "                        col(\"event_type\")\n",
    "                       ).agg(count(\"event_type\").alias(\"events\"))\\\n",
    "                        .selectExpr(\n",
    "                          \"campaign_id\",\n",
    "                          \"date\",\n",
    "                          \"hour\",\n",
    "                          \"'os_type' as type\",\n",
    "                          \"os_type as value\",\n",
    "                          \"struct(event_type, events) as event\"\n",
    "                          ) \\\n",
    "                          .groupBy(\"campaign_id\", \"date\", \"hour\", \"type\", \"value\") \\\n",
    "                          .agg(collect_list(\"event\").alias(\"events\")) \\\n",
    "                          .selectExpr(\n",
    "                              \"campaign_id\",\n",
    "                              \"date\",\n",
    "                              \"hour\",\n",
    "                              \"type\",\n",
    "                              \"value\",\n",
    "                              \"map_from_entries(events) as event\"\n",
    "                          )\n",
    "\n",
    "ad_campaigns.show()"
   ]
  },
  {
   "cell_type": "code",
   "execution_count": 47,
   "id": "b5b4fd84-76c4-4056-9e7d-0b7828ca9ccf",
   "metadata": {
    "scrolled": true
   },
   "outputs": [
    {
     "name": "stdout",
     "output_type": "stream",
     "text": [
      "+----------------+-----------+-----------------------------+-----------+------------------------+----------+-------+---------+-------------------+\n",
      "|campaign_country|campaign_id|campaign_name                |device_type|event_time              |event_type|os_type|place_id |user_id            |\n",
      "+----------------+-----------+-----------------------------+-----------+------------------------+----------+-------+---------+-------------------+\n",
      "|USA             |ABCDFAE    |Food category target campaign|apple      |2018-10-12T13:10:05.000Z|impression|ios    |CASSBB-11|1264374214654454321|\n",
      "|USA             |ABCDFAE    |Food category target campaign|MOTOROLA   |2018-10-12T13:09:04.000Z|impression|android|CADGBD-13|1674374214654454321|\n",
      "|USA             |ABCDFAE    |Food category target campaign|SAMSUNG    |2018-10-12T13:10:10.000Z|video ad  |android|BADGBA-12|5747421465445443   |\n",
      "|USA             |ABCDFAE    |Food category target campaign|SAMSUNG    |2018-10-12T13:10:12.000Z|click     |android|CASSBB-11|1864374214654454132|\n",
      "+----------------+-----------+-----------------------------+-----------+------------------------+----------+-------+---------+-------------------+\n",
      "\n",
      "+---------------------------------+-------------+\n",
      "|place_ids                        |store_name   |\n",
      "+---------------------------------+-------------+\n",
      "|[CASSBB-11, CADGBD-13, FDBEGD-14]|McDonald     |\n",
      "|[CASSBB-11]                      |BurgerKing   |\n",
      "|[BADGBA-13, CASSBB-15, FDBEGD-15]|Macys        |\n",
      "|[BADGBA-12]                      |shoppers stop|\n",
      "+---------------------------------+-------------+\n",
      "\n"
     ]
    }
   ],
   "source": [
    "# Q2.Analyse data for each campaign_id, date, hour, store_name & value to get all the events with counts\n",
    "\n",
    "ad_campaigns_df.show(truncate=False)\n",
    "store_df.show(truncate=False)"
   ]
  },
  {
   "cell_type": "code",
   "execution_count": 28,
   "id": "e6ebb363-288f-4065-93fa-abc1ee699781",
   "metadata": {},
   "outputs": [
    {
     "name": "stdout",
     "output_type": "stream",
     "text": [
      "+----------------+-----------+--------------------+-----------+--------------------+----------+-------+---------+-------------------+\n",
      "|campaign_country|campaign_id|       campaign_name|device_type|          event_time|event_type|os_type| place_id|            user_id|\n",
      "+----------------+-----------+--------------------+-----------+--------------------+----------+-------+---------+-------------------+\n",
      "|             USA|    ABCDFAE|Food category tar...|      apple|2018-10-12T13:10:...|impression|    ios|CASSBB-11|1264374214654454321|\n",
      "|             USA|    ABCDFAE|Food category tar...|   MOTOROLA|2018-10-12T13:09:...|impression|android|CADGBD-13|1674374214654454321|\n",
      "|             USA|    ABCDFAE|Food category tar...|    SAMSUNG|2018-10-12T13:10:...|  video ad|android|BADGBA-12|   5747421465445443|\n",
      "|             USA|    ABCDFAE|Food category tar...|    SAMSUNG|2018-10-12T13:10:...|     click|android|CASSBB-11|1864374214654454132|\n",
      "+----------------+-----------+--------------------+-----------+--------------------+----------+-------+---------+-------------------+\n",
      "\n",
      "+-----------+----------+----+-------+-------+--------------------+\n",
      "|campaign_id|      date|hour|   type|  value|               event|\n",
      "+-----------+----------+----+-------+-------+--------------------+\n",
      "|    ABCDFAE|2018-10-12|  13|os_type|android|{click -> 1, impr...|\n",
      "|    ABCDFAE|2018-10-12|  13|os_type|    ios|   {impression -> 1}|\n",
      "+-----------+----------+----+-------+-------+--------------------+\n",
      "\n"
     ]
    }
   ],
   "source": [
    "from pyspark.sql.functions import *\n",
    "\n",
    "ad_campaigns_df.show()\n",
    "\n",
    "ad_campaigns=ad_campaigns_df.groupBy(\"campaign_id\",\n",
    "                        substring(col(\"event_time\"), 0, 10).alias(\"date\"),\n",
    "                        substring(col(\"event_time\"),12, 2).alias(\"hour\"),\n",
    "                        col(\"os_type\"),\n",
    "                        col(\"event_type\")\n",
    "                       ).agg(count(\"event_type\").alias(\"events\"))\\\n",
    "                        .selectExpr(\n",
    "                          \"campaign_id\",\n",
    "                          \"date\",\n",
    "                          \"hour\",\n",
    "                          \"'os_type' as type\",\n",
    "                          \"os_type as value\",\n",
    "                          \"struct(event_type, events) as event\"\n",
    "                          ) \\\n",
    "                          .groupBy(\"campaign_id\", \"date\", \"hour\", \"type\", \"value\") \\\n",
    "                          .agg(collect_list(\"event\").alias(\"events\")) \\\n",
    "                          .selectExpr(\n",
    "                              \"campaign_id\",\n",
    "                              \"date\",\n",
    "                              \"hour\",\n",
    "                              \"type\",\n",
    "                              \"value\",\n",
    "                              \"map_from_entries(events) as event\"\n",
    "                          )\n",
    "\n",
    "ad_campaigns.show()"
   ]
  },
  {
   "cell_type": "code",
   "execution_count": 28,
   "id": "dea1e777-01db-4310-9df8-3742deef9f3e",
   "metadata": {
    "scrolled": true
   },
   "outputs": [
    {
     "name": "stdout",
     "output_type": "stream",
     "text": [
      "+----------------+-----------+--------------------+-----------+--------------------+----------+-------+---------+-------------------+\n",
      "|campaign_country|campaign_id|       campaign_name|device_type|          event_time|event_type|os_type| place_id|            user_id|\n",
      "+----------------+-----------+--------------------+-----------+--------------------+----------+-------+---------+-------------------+\n",
      "|             USA|    ABCDFAE|Food category tar...|      apple|2018-10-12T13:10:...|impression|    ios|CASSBB-11|1264374214654454321|\n",
      "|             USA|    ABCDFAE|Food category tar...|   MOTOROLA|2018-10-12T13:09:...|impression|android|CADGBD-13|1674374214654454321|\n",
      "|             USA|    ABCDFAE|Food category tar...|    SAMSUNG|2018-10-12T13:10:...|  video ad|android|BADGBA-12|   5747421465445443|\n",
      "|             USA|    ABCDFAE|Food category tar...|    SAMSUNG|2018-10-12T13:10:...|     click|android|CASSBB-11|1864374214654454132|\n",
      "+----------------+-----------+--------------------+-----------+--------------------+----------+-------+---------+-------------------+\n",
      "\n",
      "+-----------+----------+----+-------+-------+--------------------+\n",
      "|campaign_id|      date|hour|   type|  value|               event|\n",
      "+-----------+----------+----+-------+-------+--------------------+\n",
      "|    ABCDFAE|2018-10-12|  13|os_type|android|{click -> 1, impr...|\n",
      "|    ABCDFAE|2018-10-12|  13|os_type|    ios|   {impression -> 1}|\n",
      "+-----------+----------+----+-------+-------+--------------------+\n",
      "\n"
     ]
    }
   ],
   "source": [
    "from pyspark.sql.functions import *\n",
    "\n",
    "ad_campaigns_df.show()\n",
    "\n",
    "ad_campaigns=ad_campaigns_df.groupBy(\"campaign_id\",\n",
    "                        substring(col(\"event_time\"), 0, 10).alias(\"date\"),\n",
    "                        substring(col(\"event_time\"),12, 2).alias(\"hour\"),\n",
    "                        col(\"os_type\"),\n",
    "                        col(\"event_type\")\n",
    "                       ).agg(count(\"event_type\").alias(\"events\"))\\\n",
    "                        .selectExpr(\n",
    "                          \"campaign_id\",\n",
    "                          \"date\",\n",
    "                          \"hour\",\n",
    "                          \"'os_type' as type\",\n",
    "                          \"os_type as value\",\n",
    "                          \"struct(event_type, events) as event\"\n",
    "                          ) \\\n",
    "                          .groupBy(\"campaign_id\", \"date\", \"hour\", \"type\", \"value\") \\\n",
    "                          .agg(collect_list(\"event\").alias(\"events\")) \\\n",
    "                          .selectExpr(\n",
    "                              \"campaign_id\",\n",
    "                              \"date\",\n",
    "                              \"hour\",\n",
    "                              \"type\",\n",
    "                              \"value\",\n",
    "                              \"map_from_entries(events) as event\"\n",
    "                          )\n",
    "\n",
    "ad_campaigns.show()"
   ]
  },
  {
   "cell_type": "code",
   "execution_count": 54,
   "id": "13fa207d-2d9c-4f7a-8bc6-0905645949ea",
   "metadata": {},
   "outputs": [
    {
     "name": "stdout",
     "output_type": "stream",
     "text": [
      "+-----------+----------+----+----------+-------------+--------------------+\n",
      "|campaign_id|      date|hour|      type|        value|               event|\n",
      "+-----------+----------+----+----------+-------------+--------------------+\n",
      "|    ABCDFAE|2018-10-12|  13|store_name|   BurgerKing|{impression -> 1,...|\n",
      "|    ABCDFAE|2018-10-12|  13|store_name|     McDonald|{click -> 1, impr...|\n",
      "|    ABCDFAE|2018-10-12|  13|store_name|shoppers stop|     {video ad -> 1}|\n",
      "+-----------+----------+----+----------+-------------+--------------------+\n",
      "\n"
     ]
    }
   ],
   "source": [
    "stores=ad_campaigns_df.join(store_df, array_contains(store_df.place_ids, ad_campaigns_df.place_id),\"left\")\\\n",
    "                    .groupBy(\"campaign_id\",\n",
    "                             substring(\"event_time\", 0, 10).alias('date'),\n",
    "                             substring(\"event_time\", 12, 2).alias('hour'),\n",
    "                             \"store_name\",\n",
    "                             \"event_type\"\n",
    "                             ).agg(count(\"event_type\").alias('events'))\\\n",
    "                    .selectExpr(\"campaign_id\",\n",
    "                            \"date\",\n",
    "                            \"hour\",\n",
    "                            \"'store_name' as type\",\n",
    "                            \"store_name as value\",\n",
    "                            \"struct(event_type, events) as event_dict\")\\\n",
    "                    .groupBy(\"campaign_id\",\n",
    "                            \"date\",\n",
    "                            \"hour\",\n",
    "                            \"type\",\n",
    "                            \"value\"\n",
    "                            ).agg(collect_list(\"event_dict\").alias('event'))\\\n",
    "                    .select(\"campaign_id\",\n",
    "                            \"date\",\n",
    "                            \"hour\",\n",
    "                            \"type\",\n",
    "                            \"value\",\n",
    "                            map_from_entries(\"event\").alias('event'))\n",
    "stores.show()"
   ]
  },
  {
   "cell_type": "code",
   "execution_count": 71,
   "id": "a5af7e68-6393-433e-bd18-8b5722fb55eb",
   "metadata": {},
   "outputs": [
    {
     "name": "stdout",
     "output_type": "stream",
     "text": [
      "+-----------+----------+----+-------------+-------------+-----------------------------+\n",
      "|campaign_id|date      |hour|type         |value        |event                        |\n",
      "+-----------+----------+----+-------------+-------------+-----------------------------+\n",
      "|ABCDFAE    |2018-10-12|13  |shoppers stop|shoppers stop|{video ad -> 1}              |\n",
      "|ABCDFAE    |2018-10-12|13  |BurgerKing   |BurgerKing   |{impression -> 1, click -> 1}|\n",
      "|ABCDFAE    |2018-10-12|13  |McDonald     |McDonald     |{click -> 1, impression -> 2}|\n",
      "+-----------+----------+----+-------------+-------------+-----------------------------+\n",
      "\n"
     ]
    }
   ],
   "source": [
    "# Q2.Analyse data for each campaign_id, date, hour, store_name & value to get all the\n",
    "# events with counts\n",
    "\n",
    "joined_df = ad_campaigns_df.join(store_df, array_contains(store_df.place_ids, ad_campaigns_df.place_id), 'left')\n",
    "grouped_df = joined_df.groupBy(\"campaign_id\",\n",
    "                              substring(\"event_time\", 0, 10).alias(\"date\"),\n",
    "                              substring(\"event_time\", 12, 2).alias(\"hour\"),\n",
    "                              \"store_name\",\n",
    "                              \"event_type\"\n",
    "                              ).agg(count(\"event_type\").alias(\"events\"))\n",
    "\n",
    "selectExpr_df = grouped_df.selectExpr(\"campaign_id\",\n",
    "                                   \"date\",\n",
    "                                   \"hour\",\n",
    "                                   \"store_name as type\",\n",
    "                                   \"store_name as value\",\n",
    "                                   \"struct(event_type, events) as event_dict\")\n",
    "\n",
    "\n",
    "grouped_df2 = selectExpr_df.groupBy(\n",
    "    \"campaign_id\",\n",
    "    \"date\",\n",
    "    \"hour\",\n",
    "    \"type\",\n",
    "    \"value\"\n",
    "    )\\\n",
    "    .agg(collect_list(\"event_dict\").alias(\"event\"))\n",
    "\n",
    "final_df = grouped_df2.select(\n",
    "    \"campaign_id\",\n",
    "    \"date\",\n",
    "    \"hour\",\n",
    "    \"type\",\n",
    "    \"value\",\n",
    "    map_from_entries(\"event\").alias(\"event\")\n",
    "    )\\\n",
    "    .show(truncate=False)\n",
    "# joined_df = ad_campaigns_df.join(store_df, array_contains(store_df.place_ids, ad_campaigns_df.place_id), \"left\")"
   ]
  },
  {
   "cell_type": "code",
   "execution_count": 64,
   "id": "9c6f795e-6789-4bb1-91f9-2bdbf624894e",
   "metadata": {
    "scrolled": true
   },
   "outputs": [
    {
     "name": "stdout",
     "output_type": "stream",
     "text": [
      "+-----------+----------+----+-------------+----------+------+\n",
      "|campaign_id|      date|hour|   store_name|event_type|events|\n",
      "+-----------+----------+----+-------------+----------+------+\n",
      "|    ABCDFAE|2018-10-12|  13|     McDonald|     click|     1|\n",
      "|    ABCDFAE|2018-10-12|  13|   BurgerKing|impression|     1|\n",
      "|    ABCDFAE|2018-10-12|  13|     McDonald|impression|     2|\n",
      "|    ABCDFAE|2018-10-12|  13|shoppers stop|  video ad|     1|\n",
      "|    ABCDFAE|2018-10-12|  13|   BurgerKing|     click|     1|\n",
      "+-----------+----------+----+-------------+----------+------+\n",
      "\n",
      "+-----------+----------+----+-------------+-------------+---------------+\n",
      "|campaign_id|      date|hour|         type|        value|     event_dict|\n",
      "+-----------+----------+----+-------------+-------------+---------------+\n",
      "|    ABCDFAE|2018-10-12|  13|     McDonald|     McDonald|     {click, 1}|\n",
      "|    ABCDFAE|2018-10-12|  13|   BurgerKing|   BurgerKing|{impression, 1}|\n",
      "|    ABCDFAE|2018-10-12|  13|     McDonald|     McDonald|{impression, 2}|\n",
      "|    ABCDFAE|2018-10-12|  13|shoppers stop|shoppers stop|  {video ad, 1}|\n",
      "|    ABCDFAE|2018-10-12|  13|   BurgerKing|   BurgerKing|     {click, 1}|\n",
      "+-----------+----------+----+-------------+-------------+---------------+\n",
      "\n"
     ]
    }
   ],
   "source": [
    "grouped_df.show()\n",
    "selectExpr_df.show()"
   ]
  },
  {
   "cell_type": "code",
   "execution_count": null,
   "id": "d5417bba-45ec-4a19-96b3-4e61c612423d",
   "metadata": {},
   "outputs": [],
   "source": [
    "user_profile=ad_campaigns_df.join(user_profile_df, ad_campaigns_df.user_id == user_profile_df.user_id, \"left\")\\\n",
    "                            .select(\"campaign_id\",\n",
    "                                    substring(\"event_time\", 0, 10).alias(\"date\"),\n",
    "                                    substring(\"event_time\", 12, 2).alias(\"hour\"),\n",
    "                                    lit('gender').alias(\"type\"),\n",
    "                                    col(\"gender\").alias(\"value\"),\n",
    "                                    \"event_type\")\\\n",
    "                            .groupBy(\"campaign_id\", \"date\", \"hour\", \"type\", \"value\", \"event_type\")\\\n",
    "                            .agg(count(\"event_type\").alias(\"event_count\"))\\\n",
    "                            .select(\"campaign_id\", \"date\", \"hour\", \"type\", \"value\", struct(\"event_type\", \"event_count\").alias(\"events_map\"))\\\n",
    "                            .groupBy(\"campaign_id\", \"date\", \"hour\", \"type\", \"value\")\\\n",
    "                            .agg(collect_list(\"events_map\").alias(\"map_list\"))\\\n",
    "                            .select(\"campaign_id\", \"date\", \"hour\", \"type\", \"value\", map_from_entries(\"map_list\").alias(\"event\"))\n",
    "                                   \n",
    "user_profile.show()"
   ]
  },
  {
   "cell_type": "code",
   "execution_count": 91,
   "id": "a8ead7c3-e57b-43fa-b6ed-66bb8108fbe4",
   "metadata": {},
   "outputs": [
    {
     "name": "stdout",
     "output_type": "stream",
     "text": [
      "+-----------+----------+----+------+------+----------+-----------+\n",
      "|campaign_id|      date|hour|  type| value|event_type|event_count|\n",
      "+-----------+----------+----+------+------+----------+-----------+\n",
      "|    ABCDFAE|2018-10-12|  13|gender|female|impression|          1|\n",
      "|    ABCDFAE|2018-10-12|  13|gender|  male|impression|          1|\n",
      "|    ABCDFAE|2018-10-12|  13|gender|  male|     click|          1|\n",
      "|    ABCDFAE|2018-10-12|  13|gender|  male|  video ad|          1|\n",
      "+-----------+----------+----+------+------+----------+-----------+\n",
      "\n",
      "+-----------+----------+----+------+------+--------------------------------------------+\n",
      "|campaign_id|date      |hour|type  |value |event                                       |\n",
      "+-----------+----------+----+------+------+--------------------------------------------+\n",
      "|ABCDFAE    |2018-10-12|13  |gender|male  |{impression -> 1, click -> 1, video ad -> 1}|\n",
      "|ABCDFAE    |2018-10-12|13  |gender|female|{impression -> 1}                           |\n",
      "+-----------+----------+----+------+------+--------------------------------------------+\n",
      "\n"
     ]
    }
   ],
   "source": [
    "# Q3.Analyse data for each campaign_id, date, hour, gender_type & value to get all the\n",
    "# events with counts\n",
    "\n",
    "joinded_df = ad_campaigns_df.join(user_profile_df, ad_campaigns_df.user_id==user_profile_df.user_id, 'left')\n",
    "\n",
    "grouped_df = joinded_df.groupBy(\"campaign_id\",\n",
    "                               substring(\"event_time\", 0, 10).alias(\"date\"),\n",
    "                               substring(\"event_time\" , 12, 2).alias(\"hour\"),\n",
    "                               lit(\"gender\").alias(\"type\"),\n",
    "                                col(\"gender\").alias(\"value\"),\n",
    "                                \"event_type\")\\\n",
    "                    .agg(count(\"event_type\").alias(\"event_count\"))\n",
    "\n",
    "\n",
    "grouped_df.show()\n",
    "\n",
    "final_df = grouped_df.select(\"campaign_id\", \"date\", \"hour\", \"type\", \"value\", struct(\"event_type\", \"event_count\").alias(\"event_map\"))\\\n",
    "        .groupBy(\"campaign_id\", \"date\", \"hour\", \"type\", \"value\")\\\n",
    "        .agg(collect_list(\"event_map\").alias(\"map_list\"))\\\n",
    "        .select(\"campaign_id\", \"date\", \"hour\", \"type\", \"value\", map_from_entries(\"map_list\").alias(\"event\"))\n",
    "\n",
    "final_df.show(truncate=False)"
   ]
  },
  {
   "cell_type": "code",
   "execution_count": null,
   "id": "441ce339-bd21-4a87-8a7b-06e7a03da30c",
   "metadata": {},
   "outputs": [],
   "source": []
  },
  {
   "cell_type": "code",
   "execution_count": null,
   "id": "cd6c91b2-a4d6-44fb-9ed2-6afde01646c6",
   "metadata": {},
   "outputs": [],
   "source": []
  },
  {
   "cell_type": "code",
   "execution_count": null,
   "id": "38f6540d-dee6-4842-a27c-d4a278b3e5a1",
   "metadata": {},
   "outputs": [],
   "source": []
  },
  {
   "cell_type": "code",
   "execution_count": null,
   "id": "007559b7-45e8-4262-9e91-342e7241f425",
   "metadata": {},
   "outputs": [],
   "source": []
  },
  {
   "cell_type": "code",
   "execution_count": null,
   "id": "139422f9-b009-4a16-8285-076e9cc3c7d8",
   "metadata": {},
   "outputs": [],
   "source": []
  },
  {
   "cell_type": "code",
   "execution_count": null,
   "id": "7bb3154b-1a06-41d7-953c-a7ce4a5668ea",
   "metadata": {},
   "outputs": [],
   "source": []
  },
  {
   "cell_type": "code",
   "execution_count": null,
   "id": "d9465427-2111-41fa-b6b7-a415d5fcede8",
   "metadata": {},
   "outputs": [],
   "source": []
  },
  {
   "cell_type": "code",
   "execution_count": null,
   "id": "0090d17c-1f03-4305-bd84-5f754865510f",
   "metadata": {},
   "outputs": [],
   "source": []
  },
  {
   "cell_type": "code",
   "execution_count": null,
   "id": "dfac6e34-2328-4c9a-ae95-180e00a991d6",
   "metadata": {},
   "outputs": [],
   "source": []
  },
  {
   "cell_type": "code",
   "execution_count": null,
   "id": "1c6e758b-f573-43da-943e-0f1ed95aace0",
   "metadata": {},
   "outputs": [],
   "source": []
  },
  {
   "cell_type": "code",
   "execution_count": null,
   "id": "0d6dac33-8fc0-4411-be8b-5f517bc27a49",
   "metadata": {},
   "outputs": [],
   "source": []
  },
  {
   "cell_type": "code",
   "execution_count": null,
   "id": "1b41b004-fecf-4112-a37f-58b2320db018",
   "metadata": {},
   "outputs": [],
   "source": []
  },
  {
   "cell_type": "code",
   "execution_count": null,
   "id": "8284db83-8c13-4f6f-b176-6c9e581c5022",
   "metadata": {},
   "outputs": [],
   "source": []
  },
  {
   "cell_type": "code",
   "execution_count": null,
   "id": "ca3d2690-feed-4d0c-99c6-acfcd6d62efb",
   "metadata": {},
   "outputs": [],
   "source": []
  },
  {
   "cell_type": "code",
   "execution_count": null,
   "id": "3a84e08a-7eba-4fce-b3f9-b182435d519f",
   "metadata": {},
   "outputs": [],
   "source": []
  },
  {
   "cell_type": "code",
   "execution_count": null,
   "id": "7d3ff073-c82f-42d9-9dda-0f2ef29ee3fa",
   "metadata": {},
   "outputs": [],
   "source": []
  },
  {
   "cell_type": "code",
   "execution_count": null,
   "id": "07e02e9e-b48d-4abc-97ca-084ad779d3cd",
   "metadata": {},
   "outputs": [],
   "source": []
  },
  {
   "cell_type": "code",
   "execution_count": null,
   "id": "b72e2945-8576-4c15-a878-76fbab1c5054",
   "metadata": {},
   "outputs": [],
   "source": []
  },
  {
   "cell_type": "code",
   "execution_count": null,
   "id": "9d10a77d-6f10-4aea-a7a9-fc2b03137097",
   "metadata": {},
   "outputs": [],
   "source": []
  },
  {
   "cell_type": "code",
   "execution_count": null,
   "id": "ec64cc2e-8951-438b-95ae-c0f3892f223d",
   "metadata": {},
   "outputs": [],
   "source": []
  },
  {
   "cell_type": "code",
   "execution_count": null,
   "id": "89b396fd-9875-4150-8af1-f251af9e0c2b",
   "metadata": {},
   "outputs": [],
   "source": []
  },
  {
   "cell_type": "code",
   "execution_count": null,
   "id": "90e4a831-7cef-4cca-b0f0-0529bbdf66c4",
   "metadata": {},
   "outputs": [],
   "source": []
  },
  {
   "cell_type": "code",
   "execution_count": null,
   "id": "b5ed65b2-7b99-4629-9ec0-240cf9642088",
   "metadata": {},
   "outputs": [],
   "source": []
  },
  {
   "cell_type": "code",
   "execution_count": null,
   "id": "4213edd5-192f-44e7-81a3-19af7a0709ae",
   "metadata": {},
   "outputs": [],
   "source": []
  },
  {
   "cell_type": "code",
   "execution_count": null,
   "id": "100e77de-469d-4c13-8082-b31426823926",
   "metadata": {},
   "outputs": [],
   "source": []
  },
  {
   "cell_type": "code",
   "execution_count": null,
   "id": "bc904026-6a9a-487f-aba7-64e80b39a24e",
   "metadata": {},
   "outputs": [],
   "source": []
  },
  {
   "cell_type": "code",
   "execution_count": null,
   "id": "275d0b64-a424-4d0f-9b5d-8df6bb904bbf",
   "metadata": {},
   "outputs": [],
   "source": []
  },
  {
   "cell_type": "code",
   "execution_count": null,
   "id": "04a2146c-b218-477b-9a75-bb05ed17cae5",
   "metadata": {},
   "outputs": [],
   "source": []
  },
  {
   "cell_type": "code",
   "execution_count": null,
   "id": "5617db28-ee79-4031-b4ba-08f198d65261",
   "metadata": {},
   "outputs": [],
   "source": []
  }
 ],
 "metadata": {
  "kernelspec": {
   "display_name": "Python 3 (ipykernel)",
   "language": "python",
   "name": "python3"
  },
  "language_info": {
   "codemirror_mode": {
    "name": "ipython",
    "version": 3
   },
   "file_extension": ".py",
   "mimetype": "text/x-python",
   "name": "python",
   "nbconvert_exporter": "python",
   "pygments_lexer": "ipython3",
   "version": "3.10.3"
  }
 },
 "nbformat": 4,
 "nbformat_minor": 5
}
