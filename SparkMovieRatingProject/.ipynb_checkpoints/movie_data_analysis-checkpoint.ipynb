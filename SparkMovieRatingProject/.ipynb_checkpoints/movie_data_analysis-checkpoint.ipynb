{
 "cells": [
  {
   "cell_type": "markdown",
   "id": "b6c2886f-2b3f-4edb-8da4-8196704bddcb",
   "metadata": {},
   "source": [
    "# Moives data Analysis"
   ]
  },
  {
   "cell_type": "code",
   "execution_count": 1,
   "id": "56387ca4-da77-4c4a-bb16-d028db67a8cb",
   "metadata": {},
   "outputs": [
    {
     "data": {
      "text/html": [
       "\n",
       "            <div>\n",
       "                <p><b>SparkSession - in-memory</b></p>\n",
       "                \n",
       "        <div>\n",
       "            <p><b>SparkContext</b></p>\n",
       "\n",
       "            <p><a href=\"http://DESKTOP-QPQ92SI.mshome.net:4040\">Spark UI</a></p>\n",
       "\n",
       "            <dl>\n",
       "              <dt>Version</dt>\n",
       "                <dd><code>v3.5.0</code></dd>\n",
       "              <dt>Master</dt>\n",
       "                <dd><code>local[1]</code></dd>\n",
       "              <dt>AppName</dt>\n",
       "                <dd><code>Movies Analysis</code></dd>\n",
       "            </dl>\n",
       "        </div>\n",
       "        \n",
       "            </div>\n",
       "        "
      ],
      "text/plain": [
       "<pyspark.sql.session.SparkSession at 0x2edc9f3c640>"
      ]
     },
     "execution_count": 1,
     "metadata": {},
     "output_type": "execute_result"
    }
   ],
   "source": [
    "# import pyspark and create spark session\n",
    "from pyspark.sql import SparkSession\n",
    "\n",
    "# create spark cluster\n",
    "spark = SparkSession.builder\\\n",
    "    .master(\"local[1]\")\\\n",
    "    .appName(\"Movies Analysis\")\\\n",
    "    .getOrCreate()\n",
    "\n",
    "spark"
   ]
  },
  {
   "cell_type": "code",
   "execution_count": 2,
   "id": "9cccfdd6-0609-4c9d-823e-a657eb34357a",
   "metadata": {},
   "outputs": [
    {
     "data": {
      "text/plain": [
       "'C:\\\\Users\\\\kamal\\\\Desktop\\\\DataEngineer\\\\Spark\\\\SparkMovieRatingProject'"
      ]
     },
     "execution_count": 2,
     "metadata": {},
     "output_type": "execute_result"
    }
   ],
   "source": [
    "pwd"
   ]
  },
  {
   "cell_type": "markdown",
   "id": "8b045596-3553-4097-9e6a-ba0f863576f7",
   "metadata": {},
   "source": [
    "### loaded movies.csv"
   ]
  },
  {
   "cell_type": "code",
   "execution_count": 3,
   "id": "18c6eb53-d527-424e-b60a-3a6ea8978561",
   "metadata": {},
   "outputs": [
    {
     "name": "stdout",
     "output_type": "stream",
     "text": [
      "root\n",
      " |-- movieid: integer (nullable = true)\n",
      " |-- title: string (nullable = true)\n",
      " |-- genres: string (nullable = true)\n",
      "\n",
      "+-------+--------------------+--------------------+\n",
      "|movieid|               title|              genres|\n",
      "+-------+--------------------+--------------------+\n",
      "|      1|    Toy Story (1995)|Adventure|Animati...|\n",
      "|      2|      Jumanji (1995)|Adventure|Childre...|\n",
      "|      3|Grumpier Old Men ...|      Comedy|Romance|\n",
      "|      4|Waiting to Exhale...|Comedy|Drama|Romance|\n",
      "|      5|Father of the Bri...|              Comedy|\n",
      "|      6|         Heat (1995)|Action|Crime|Thri...|\n",
      "|      7|      Sabrina (1995)|      Comedy|Romance|\n",
      "|      8| Tom and Huck (1995)|  Adventure|Children|\n",
      "|      9| Sudden Death (1995)|              Action|\n",
      "|     10|    GoldenEye (1995)|Action|Adventure|...|\n",
      "|     11|American Presiden...|Comedy|Drama|Romance|\n",
      "|     12|Dracula: Dead and...|       Comedy|Horror|\n",
      "|     13|        Balto (1995)|Adventure|Animati...|\n",
      "|     14|        Nixon (1995)|               Drama|\n",
      "|     15|Cutthroat Island ...|Action|Adventure|...|\n",
      "|     16|       Casino (1995)|         Crime|Drama|\n",
      "|     17|Sense and Sensibi...|       Drama|Romance|\n",
      "|     18|   Four Rooms (1995)|              Comedy|\n",
      "|     19|Ace Ventura: When...|              Comedy|\n",
      "|     20|  Money Train (1995)|Action|Comedy|Cri...|\n",
      "+-------+--------------------+--------------------+\n",
      "only showing top 20 rows\n",
      "\n"
     ]
    }
   ],
   "source": [
    "# import pyspark data types\n",
    "from pyspark.sql.types import StructType, StructField, StringType, IntegerType\n",
    "\n",
    "# create schema\n",
    "schema = StructType([\n",
    "    StructField(name='movieid', dataType=IntegerType(), nullable=True),\n",
    "    StructField(name='title', dataType=StringType(), nullable=True),\n",
    "    StructField(name='genres', dataType=StringType(), nullable=True)\n",
    "])\n",
    "\n",
    "# file movies data path in hdfs\n",
    "movies_hdfs_path = 'hdfs://localhost:9000/data/movies.csv'\n",
    "# read data in pyspark\n",
    "movies = spark.read.format('csv')\\\n",
    "    .option('header', 'true')\\\n",
    "    .option('inferSchema', 'false')\\\n",
    "    .schema(schema)\\\n",
    "    .load(movies_hdfs_path)\n",
    "\n",
    "\n",
    "movies.printSchema()\n",
    "movies.show()"
   ]
  },
  {
   "cell_type": "markdown",
   "id": "bd95caba-46ea-42c5-aeb8-415acc7cf9a3",
   "metadata": {},
   "source": [
    "### laoded tags.csv"
   ]
  },
  {
   "cell_type": "code",
   "execution_count": 4,
   "id": "9870f69c-15c2-4e5f-81b4-746010201df4",
   "metadata": {},
   "outputs": [
    {
     "name": "stdout",
     "output_type": "stream",
     "text": [
      "root\n",
      " |-- userid: integer (nullable = true)\n",
      " |-- movieid: integer (nullable = true)\n",
      " |-- tag: string (nullable = true)\n",
      " |-- timestamp: long (nullable = true)\n",
      "\n",
      "+------+-------+---------------+----------+\n",
      "|userid|movieid|tag            |timestamp |\n",
      "+------+-------+---------------+----------+\n",
      "|2     |60756  |funny          |1445714994|\n",
      "|2     |60756  |Highly quotable|1445714996|\n",
      "|2     |60756  |will ferrell   |1445714992|\n",
      "|2     |89774  |Boxing story   |1445715207|\n",
      "|2     |89774  |MMA            |1445715200|\n",
      "+------+-------+---------------+----------+\n",
      "only showing top 5 rows\n",
      "\n"
     ]
    }
   ],
   "source": [
    "from pyspark.sql.types import StringType, StructField, StructType, IntegerType, LongType, FloatType\n",
    "\n",
    "schema = StructType([\n",
    "    StructField(name=\"userid\", dataType=IntegerType(), nullable=True),\n",
    "    StructField(name='movieid',dataType=IntegerType(), nullable=True),\n",
    "    StructField(name='tag', dataType=StringType(), nullable=True),\n",
    "    StructField(name=\"timestamp\", dataType=LongType(), nullable=True)\n",
    "])\n",
    "\n",
    "tags_hdfs_path = 'hdfs://localhost:9000/data/tags.csv'\n",
    "tags = spark.read.format(\"csv\")\\\n",
    "    .option(\"header\", \"true\")\\\n",
    "    .option(\"inferSchema\", \"false\")\\\n",
    "    .schema(schema)\\\n",
    "    .load(tags_hdfs_path)\n",
    "\n",
    "tags.printSchema()\n",
    "tags.show(5, truncate=False)"
   ]
  },
  {
   "cell_type": "code",
   "execution_count": 5,
   "id": "feb410ec-9879-4b25-9c35-bb5bf5a9dd36",
   "metadata": {},
   "outputs": [
    {
     "name": "stdout",
     "output_type": "stream",
     "text": [
      "+------+-------+-----------------+-------------------+\n",
      "|userid|movieid|tag              |timestamp          |\n",
      "+------+-------+-----------------+-------------------+\n",
      "|2     |60756  |funny            |2015-10-25 00:59:54|\n",
      "|2     |60756  |Highly quotable  |2015-10-25 00:59:56|\n",
      "|2     |60756  |will ferrell     |2015-10-25 00:59:52|\n",
      "|2     |89774  |Boxing story     |2015-10-25 01:03:27|\n",
      "|2     |89774  |MMA              |2015-10-25 01:03:20|\n",
      "|2     |89774  |Tom Hardy        |2015-10-25 01:03:25|\n",
      "|2     |106782 |drugs            |2015-10-25 01:00:54|\n",
      "|2     |106782 |Leonardo DiCaprio|2015-10-25 01:00:51|\n",
      "|2     |106782 |Martin Scorsese  |2015-10-25 01:00:56|\n",
      "|7     |48516  |way too long     |2007-01-25 06:38:45|\n",
      "|18    |431    |Al Pacino        |2016-05-02 03:09:25|\n",
      "|18    |431    |gangster         |2016-05-02 03:09:09|\n",
      "|18    |431    |mafia            |2016-05-02 03:09:15|\n",
      "|18    |1221   |Al Pacino        |2016-04-27 01:05:06|\n",
      "|18    |1221   |Mafia            |2016-04-27 01:05:03|\n",
      "|18    |5995   |holocaust        |2016-02-18 00:27:52|\n",
      "|18    |5995   |true story       |2016-02-18 00:27:59|\n",
      "|18    |44665  |twist ending     |2016-03-03 01:21:23|\n",
      "|18    |52604  |Anthony Hopkins  |2016-03-11 04:28:16|\n",
      "|18    |52604  |courtroom drama  |2016-03-11 04:28:31|\n",
      "+------+-------+-----------------+-------------------+\n",
      "only showing top 20 rows\n",
      "\n"
     ]
    }
   ],
   "source": [
    "# update timestamp column into datetime format\n",
    "from pyspark.sql.functions import from_unixtime\n",
    "tags_df1 = tags.withColumn(\"timestamp\", from_unixtime(tags.timestamp))\n",
    "tags_df1.show(truncate=False)"
   ]
  },
  {
   "cell_type": "markdown",
   "id": "08566660-317f-4a08-952c-0abc656910a0",
   "metadata": {},
   "source": [
    "### loaded rating.csv"
   ]
  },
  {
   "cell_type": "code",
   "execution_count": 6,
   "id": "51f3addd-d612-4046-b4ee-5b545918a8ef",
   "metadata": {},
   "outputs": [
    {
     "name": "stdout",
     "output_type": "stream",
     "text": [
      "root\n",
      " |-- userid: integer (nullable = true)\n",
      " |-- movieid: integer (nullable = true)\n",
      " |-- rating: float (nullable = true)\n",
      " |-- timestamp: long (nullable = true)\n",
      "\n",
      "+------+-------+------+---------+\n",
      "|userid|movieid|rating|timestamp|\n",
      "+------+-------+------+---------+\n",
      "|1     |1      |4.0   |964982703|\n",
      "|1     |3      |4.0   |964981247|\n",
      "|1     |6      |4.0   |964982224|\n",
      "|1     |47     |5.0   |964983815|\n",
      "|1     |50     |5.0   |964982931|\n",
      "+------+-------+------+---------+\n",
      "only showing top 5 rows\n",
      "\n"
     ]
    }
   ],
   "source": [
    "from pyspark.sql.types import StringType, StructField, StructType, IntegerType, LongType, FloatType\n",
    "\n",
    "schema = StructType([\n",
    "    StructField(name=\"userid\", dataType=IntegerType(), nullable=True),\n",
    "    StructField(name='movieid',dataType=IntegerType(), nullable=True),\n",
    "    StructField(name='rating', dataType=FloatType(), nullable=True),\n",
    "    StructField(name=\"timestamp\", dataType=LongType(), nullable=True)\n",
    "])\n",
    "\n",
    "ratings_hdfs_path = 'hdfs://localhost:9000/data/ratings.csv'\n",
    "ratings = spark.read.format(\"csv\")\\\n",
    "    .option(\"header\", \"true\")\\\n",
    "    .option(\"inferSchema\", \"false\")\\\n",
    "    .schema(schema)\\\n",
    "    .load(ratings_hdfs_path)\n",
    "\n",
    "ratings.printSchema()\n",
    "ratings.show(5, truncate=False)"
   ]
  },
  {
   "cell_type": "code",
   "execution_count": 7,
   "id": "7f92f5f5-c733-4613-9921-9e27309ca308",
   "metadata": {},
   "outputs": [
    {
     "name": "stdout",
     "output_type": "stream",
     "text": [
      "+------+-------+------+-------------------+\n",
      "|userid|movieid|rating|timestamp          |\n",
      "+------+-------+------+-------------------+\n",
      "|1     |1      |4.0   |2000-07-31 00:15:03|\n",
      "|1     |3      |4.0   |2000-07-30 23:50:47|\n",
      "|1     |6      |4.0   |2000-07-31 00:07:04|\n",
      "|1     |47     |5.0   |2000-07-31 00:33:35|\n",
      "|1     |50     |5.0   |2000-07-31 00:18:51|\n",
      "|1     |70     |3.0   |2000-07-31 00:10:00|\n",
      "|1     |101    |5.0   |2000-07-30 23:44:28|\n",
      "|1     |110    |4.0   |2000-07-31 00:06:16|\n",
      "|1     |151    |5.0   |2000-07-31 00:37:21|\n",
      "|1     |157    |5.0   |2000-07-31 00:38:20|\n",
      "|1     |163    |5.0   |2000-07-31 00:30:50|\n",
      "|1     |216    |5.0   |2000-07-30 23:50:08|\n",
      "|1     |223    |3.0   |2000-07-30 23:46:25|\n",
      "|1     |231    |5.0   |2000-07-30 23:49:39|\n",
      "|1     |235    |4.0   |2000-07-30 23:45:08|\n",
      "|1     |260    |5.0   |2000-07-30 23:58:00|\n",
      "|1     |296    |3.0   |2000-07-31 00:19:27|\n",
      "|1     |316    |3.0   |2000-07-31 00:08:30|\n",
      "|1     |333    |5.0   |2000-07-30 23:49:39|\n",
      "|1     |349    |4.0   |2000-07-31 00:12:43|\n",
      "+------+-------+------+-------------------+\n",
      "only showing top 20 rows\n",
      "\n"
     ]
    }
   ],
   "source": [
    "# update timestamp column into datetime format\n",
    "from pyspark.sql.functions import from_unixtime\n",
    "ratings_df1 = ratings.withColumn(\"timestamp\", from_unixtime(ratings.timestamp))\n",
    "ratings_df1.show(truncate=False)"
   ]
  },
  {
   "cell_type": "markdown",
   "id": "59b7c585-f0f2-49af-8580-773c10b9edf7",
   "metadata": {},
   "source": [
    "# solve these problems using pyspark or pyspark-sql\n",
    "\n",
    "    a. Show the aggregated number of ratings per year\n",
    "    b. Show the average monthly number of ratings\n",
    "    c. Show the rating levels distribution\n",
    "    d. Show the 18 movies that are tagged but not rated\n",
    "    e. Show the movies that have rating but no tag\n",
    "    f. Focusing on the rated untagged movies with more than 30 user ratings, show the top 10 movies in terms of average rating and number of ratings\n",
    "    g. What is the average number of tags per movie in tagsDF? And the\n",
    "    average number of tags per user? How does it compare with the\n",
    "    average number of tags a user assigns to a movie?\n",
    "    h. Identify the users that tagged movies without rating them\n",
    "    i. What is the average number of ratings per user in ratings DF? And the\n",
    "    average number of ratings per movie?\n",
    "    j. What is the predominant (frequency based) genre per rating level?\n",
    "    k. What is the predominant tag per genre and the most tagged genres?\n",
    "    l. What are the most predominant (popularity based) movies?\n",
    "    m. Top 10 movies in terms of average rating (provided more than 30 users\n",
    "    reviewed them)\n"
   ]
  },
  {
   "cell_type": "code",
   "execution_count": 8,
   "id": "b583bba8-7340-408c-b813-592c32fdd7be",
   "metadata": {},
   "outputs": [
    {
     "data": {
      "text/plain": [
       "['userid', 'movieid', 'rating', 'timestamp']"
      ]
     },
     "execution_count": 8,
     "metadata": {},
     "output_type": "execute_result"
    }
   ],
   "source": [
    "ratings.columns"
   ]
  },
  {
   "cell_type": "code",
   "execution_count": 9,
   "id": "4bad77b3-29e1-4ce1-85c1-cd9ed0271fea",
   "metadata": {},
   "outputs": [
    {
     "name": "stdout",
     "output_type": "stream",
     "text": [
      "+----+-----+\n",
      "|year|count|\n",
      "+----+-----+\n",
      "|2003| 4014|\n",
      "|2007| 7111|\n",
      "|2018| 6418|\n",
      "|2015| 6616|\n",
      "|2006| 4059|\n",
      "|2013| 1664|\n",
      "|1997| 1916|\n",
      "|2014| 1439|\n",
      "|2004| 3274|\n",
      "|1996| 6040|\n",
      "|1998|  507|\n",
      "|2012| 4657|\n",
      "|2009| 4163|\n",
      "|2016| 6702|\n",
      "|2001| 3922|\n",
      "|2005| 5818|\n",
      "|2000|10061|\n",
      "|2010| 2301|\n",
      "|2011| 1690|\n",
      "|2008| 4348|\n",
      "+----+-----+\n",
      "only showing top 20 rows\n",
      "\n",
      "+-----+-----+\n",
      "|years|count|\n",
      "+-----+-----+\n",
      "| 2016| 6702|\n",
      "| 2012| 4657|\n",
      "| 2017| 8199|\n",
      "| 2014| 1439|\n",
      "| 2013| 1664|\n",
      "| 2005| 5818|\n",
      "| 2000|10061|\n",
      "| 2002| 3478|\n",
      "| 2009| 4163|\n",
      "| 2018| 6418|\n",
      "| 2006| 4059|\n",
      "| 2004| 3274|\n",
      "| 2011| 1690|\n",
      "| 2008| 4348|\n",
      "| 1999| 2439|\n",
      "| 1997| 1916|\n",
      "| 2007| 7111|\n",
      "| 1996| 6040|\n",
      "| 2015| 6616|\n",
      "| 1998|  507|\n",
      "+-----+-----+\n",
      "only showing top 20 rows\n",
      "\n"
     ]
    }
   ],
   "source": [
    "# a. Show the aggregated number of ratings per year\n",
    "from pyspark.sql.functions import year, col, count, substring\n",
    "\n",
    "ratings_per_year = ratings_df1.groupBy(year(col('timestamp')).alias(\"year\"))\\\n",
    "    .agg(count(\"*\").alias(\"count\"))\n",
    "\n",
    "ratings_per_year.show()\n",
    "\n",
    "\n",
    "# second method\n",
    "\n",
    "rating_per_yaer_1 = ratings_df1.groupBy(substring(\"timestamp\", 0, 4).alias(\"years\"))\\\n",
    "    .agg(count(\"*\").alias(\"count\"))\n",
    "\n",
    "rating_per_yaer_1.show()"
   ]
  },
  {
   "cell_type": "code",
   "execution_count": 10,
   "id": "c2f6316f-9df2-41be-9c87-a7934f4c215c",
   "metadata": {},
   "outputs": [],
   "source": [
    "# ratings_df1.select(substring('timestamp', 0, 2)).show()"
   ]
  },
  {
   "cell_type": "code",
   "execution_count": 11,
   "id": "082e456d-af38-4b94-afb7-0b2896228cdd",
   "metadata": {},
   "outputs": [],
   "source": [
    "from pyspark.sql.functions import *"
   ]
  },
  {
   "cell_type": "code",
   "execution_count": 12,
   "id": "9628f389-2dbc-4729-8fec-49f700353964",
   "metadata": {},
   "outputs": [
    {
     "name": "stdout",
     "output_type": "stream",
     "text": [
      "+---------------+\n",
      "|year(timestamp)|\n",
      "+---------------+\n",
      "|2000           |\n",
      "|2000           |\n",
      "|2000           |\n",
      "|2000           |\n",
      "|2000           |\n",
      "|2000           |\n",
      "|2000           |\n",
      "|2000           |\n",
      "|2000           |\n",
      "|2000           |\n",
      "|2000           |\n",
      "|2000           |\n",
      "|2000           |\n",
      "|2000           |\n",
      "|2000           |\n",
      "|2000           |\n",
      "|2000           |\n",
      "|2000           |\n",
      "|2000           |\n",
      "|2000           |\n",
      "+---------------+\n",
      "only showing top 20 rows\n",
      "\n"
     ]
    }
   ],
   "source": [
    "ratings_df1.select(year(col('timestamp'))).show(truncate=False)"
   ]
  },
  {
   "cell_type": "code",
   "execution_count": 13,
   "id": "ee73d228-262f-4ea7-8633-a405c6c49038",
   "metadata": {},
   "outputs": [],
   "source": [
    "# b. Show the average monthly number of ratings\n",
    "# using sql query in pysaprk\n",
    "# create a temporary ratingTable\n",
    "ratings_df1.createOrReplaceTempView('ratingTable')\n",
    "movies.createOrReplaceTempView(\"moviesTable\")\n",
    "tags.createOrReplaceTempView(\"tagsTable\")"
   ]
  },
  {
   "cell_type": "code",
   "execution_count": 14,
   "id": "d1ce366f-d652-41cf-834e-f460e14a6d79",
   "metadata": {},
   "outputs": [
    {
     "name": "stdout",
     "output_type": "stream",
     "text": [
      "+-----+-------------+\n",
      "|month|num_fo_rating|\n",
      "+-----+-------------+\n",
      "|    1|         8610|\n",
      "|    2|         7576|\n",
      "|    3|         8898|\n",
      "|    4|         7848|\n",
      "|    5|        10823|\n",
      "|    6|         8873|\n",
      "|    7|         6935|\n",
      "|    8|         8948|\n",
      "|    9|         8669|\n",
      "|   10|         7104|\n",
      "|   11|         9679|\n",
      "|   12|         6873|\n",
      "+-----+-------------+\n",
      "\n"
     ]
    }
   ],
   "source": [
    "# b. Show the average monthly number of ratings\n",
    "spark.sql(\"\"\"select month(timestamp) as month, count(rating) as num_fo_rating \n",
    "            from ratingTable group by month(timestamp)\n",
    "            order by month asc\"\"\")\\\n",
    "    .show()"
   ]
  },
  {
   "cell_type": "code",
   "execution_count": 15,
   "id": "6bf69e0a-a9a6-4c02-8edc-67f4009680fc",
   "metadata": {},
   "outputs": [
    {
     "name": "stdout",
     "output_type": "stream",
     "text": [
      "+-----+------------+\n",
      "|month|rating_count|\n",
      "+-----+------------+\n",
      "|    1|        8610|\n",
      "|    2|        7576|\n",
      "|    3|        8898|\n",
      "|    4|        7848|\n",
      "|    5|       10823|\n",
      "|    6|        8873|\n",
      "|    7|        6935|\n",
      "|    8|        8948|\n",
      "|    9|        8669|\n",
      "|   10|        7104|\n",
      "|   11|        9679|\n",
      "|   12|        6873|\n",
      "+-----+------------+\n",
      "\n"
     ]
    }
   ],
   "source": [
    "# usibg byspark\n",
    "# b. Show the average monthly number of ratings\n",
    "from pyspark.sql.functions import month\n",
    "rating_monthly_count_df = ratings_df1.groupBy(month('timestamp').alias(\"month\"))\\\n",
    "    .agg(count(\"rating\").alias(\"rating_count\"))\\\n",
    "    .orderBy(\"month\")\\\n",
    "    .show()"
   ]
  },
  {
   "cell_type": "code",
   "execution_count": 16,
   "id": "da7711ff-e045-45d1-8977-098d81b3d0f2",
   "metadata": {},
   "outputs": [
    {
     "name": "stdout",
     "output_type": "stream",
     "text": [
      "+-----+------------+\n",
      "|month|rating_count|\n",
      "+-----+------------+\n",
      "|   01|        8610|\n",
      "|   02|        7576|\n",
      "|   03|        8898|\n",
      "|   04|        7848|\n",
      "|   05|       10823|\n",
      "|   06|        8873|\n",
      "|   07|        6935|\n",
      "|   08|        8948|\n",
      "|   09|        8669|\n",
      "|   10|        7104|\n",
      "|   11|        9679|\n",
      "|   12|        6873|\n",
      "+-----+------------+\n",
      "\n"
     ]
    }
   ],
   "source": [
    "rating_monthly_count_df_1 = ratings_df1.groupBy(substring(\"timestamp\", 6, 2).alias(\"month\"))\\\n",
    "    .agg(count(\"rating\").alias(\"rating_count\"))\\\n",
    "    .orderBy(\"month\")\\\n",
    "    .show()"
   ]
  },
  {
   "cell_type": "code",
   "execution_count": 17,
   "id": "d3bce547-1bf3-4b08-8f29-d882b33b32ea",
   "metadata": {},
   "outputs": [
    {
     "name": "stdout",
     "output_type": "stream",
     "text": [
      "+-------+------------+\n",
      "|ratings|rating_count|\n",
      "+-------+------------+\n",
      "|    0.5|        1370|\n",
      "|    1.0|        2811|\n",
      "|    1.5|        1791|\n",
      "|    2.0|        7551|\n",
      "|    2.5|        5550|\n",
      "|    3.0|       20047|\n",
      "|    3.5|       13136|\n",
      "|    4.0|       26818|\n",
      "|    4.5|        8551|\n",
      "|    5.0|       13211|\n",
      "+-------+------------+\n",
      "\n",
      "+------+------------+\n",
      "|rating|rating_count|\n",
      "+------+------------+\n",
      "|   0.5|        1370|\n",
      "|   1.0|        2811|\n",
      "|   1.5|        1791|\n",
      "|   2.0|        7551|\n",
      "|   2.5|        5550|\n",
      "|   3.0|       20047|\n",
      "|   3.5|       13136|\n",
      "|   4.0|       26818|\n",
      "|   4.5|        8551|\n",
      "|   5.0|       13211|\n",
      "+------+------------+\n",
      "\n"
     ]
    }
   ],
   "source": [
    "# Show the rating levels distribution\n",
    "# meanin of the question is that find the number of count of the rating\n",
    "from pyspark.sql.functions import col\n",
    "\n",
    "ratings_dist = ratings_df1.groupBy(col(\"rating\").alias(\"ratings\"))\\\n",
    "    .agg(count(\"rating\").alias(\"rating_count\"))\\\n",
    "    .orderBy(\"rating\")\\\n",
    "    .show()\n",
    "# solve it by using sql query\n",
    "\n",
    "spark.sql(\"\"\"select rating, count(rating) as rating_count from ratingTable\n",
    "        group by rating order by rating\"\"\").show()"
   ]
  },
  {
   "cell_type": "code",
   "execution_count": 18,
   "id": "f8930816-68b3-4453-8bee-7ca5c3639e02",
   "metadata": {},
   "outputs": [],
   "source": [
    "# Show the 18 movies that are tagged but not rated\n",
    "# craete temp table of movies and tags\n",
    "\n",
    "# movies.createOrReplaceTempView(\"moviesTable\")\n",
    "# tags.createOrReplaceTempView(\"tagsTable\")"
   ]
  },
  {
   "cell_type": "code",
   "execution_count": 19,
   "id": "537c8664-0b98-4f8f-b598-fdd6601ac79a",
   "metadata": {},
   "outputs": [
    {
     "name": "stdout",
     "output_type": "stream",
     "text": [
      "+-------+--------------------+--------------------+\n",
      "|movieid|               title|              genres|\n",
      "+-------+--------------------+--------------------+\n",
      "|      1|    Toy Story (1995)|Adventure|Animati...|\n",
      "|      2|      Jumanji (1995)|Adventure|Childre...|\n",
      "|      3|Grumpier Old Men ...|      Comedy|Romance|\n",
      "|      4|Waiting to Exhale...|Comedy|Drama|Romance|\n",
      "|      5|Father of the Bri...|              Comedy|\n",
      "|      6|         Heat (1995)|Action|Crime|Thri...|\n",
      "|      7|      Sabrina (1995)|      Comedy|Romance|\n",
      "|      8| Tom and Huck (1995)|  Adventure|Children|\n",
      "|      9| Sudden Death (1995)|              Action|\n",
      "|     10|    GoldenEye (1995)|Action|Adventure|...|\n",
      "|     11|American Presiden...|Comedy|Drama|Romance|\n",
      "|     12|Dracula: Dead and...|       Comedy|Horror|\n",
      "|     13|        Balto (1995)|Adventure|Animati...|\n",
      "|     14|        Nixon (1995)|               Drama|\n",
      "|     15|Cutthroat Island ...|Action|Adventure|...|\n",
      "|     16|       Casino (1995)|         Crime|Drama|\n",
      "|     17|Sense and Sensibi...|       Drama|Romance|\n",
      "|     18|   Four Rooms (1995)|              Comedy|\n",
      "|     19|Ace Ventura: When...|              Comedy|\n",
      "|     20|  Money Train (1995)|Action|Comedy|Cri...|\n",
      "+-------+--------------------+--------------------+\n",
      "only showing top 20 rows\n",
      "\n",
      "+------+-------+------+-------------------+\n",
      "|userid|movieid|rating|          timestamp|\n",
      "+------+-------+------+-------------------+\n",
      "|     1|      1|   4.0|2000-07-31 00:15:03|\n",
      "|     1|      3|   4.0|2000-07-30 23:50:47|\n",
      "|     1|      6|   4.0|2000-07-31 00:07:04|\n",
      "|     1|     47|   5.0|2000-07-31 00:33:35|\n",
      "|     1|     50|   5.0|2000-07-31 00:18:51|\n",
      "|     1|     70|   3.0|2000-07-31 00:10:00|\n",
      "|     1|    101|   5.0|2000-07-30 23:44:28|\n",
      "|     1|    110|   4.0|2000-07-31 00:06:16|\n",
      "|     1|    151|   5.0|2000-07-31 00:37:21|\n",
      "|     1|    157|   5.0|2000-07-31 00:38:20|\n",
      "|     1|    163|   5.0|2000-07-31 00:30:50|\n",
      "|     1|    216|   5.0|2000-07-30 23:50:08|\n",
      "|     1|    223|   3.0|2000-07-30 23:46:25|\n",
      "|     1|    231|   5.0|2000-07-30 23:49:39|\n",
      "|     1|    235|   4.0|2000-07-30 23:45:08|\n",
      "|     1|    260|   5.0|2000-07-30 23:58:00|\n",
      "|     1|    296|   3.0|2000-07-31 00:19:27|\n",
      "|     1|    316|   3.0|2000-07-31 00:08:30|\n",
      "|     1|    333|   5.0|2000-07-30 23:49:39|\n",
      "|     1|    349|   4.0|2000-07-31 00:12:43|\n",
      "+------+-------+------+-------------------+\n",
      "only showing top 20 rows\n",
      "\n",
      "+------+-------+-----------------+----------+\n",
      "|userid|movieid|              tag| timestamp|\n",
      "+------+-------+-----------------+----------+\n",
      "|     2|  60756|            funny|1445714994|\n",
      "|     2|  60756|  Highly quotable|1445714996|\n",
      "|     2|  60756|     will ferrell|1445714992|\n",
      "|     2|  89774|     Boxing story|1445715207|\n",
      "|     2|  89774|              MMA|1445715200|\n",
      "|     2|  89774|        Tom Hardy|1445715205|\n",
      "|     2| 106782|            drugs|1445715054|\n",
      "|     2| 106782|Leonardo DiCaprio|1445715051|\n",
      "|     2| 106782|  Martin Scorsese|1445715056|\n",
      "|     7|  48516|     way too long|1169687325|\n",
      "|    18|    431|        Al Pacino|1462138765|\n",
      "|    18|    431|         gangster|1462138749|\n",
      "|    18|    431|            mafia|1462138755|\n",
      "|    18|   1221|        Al Pacino|1461699306|\n",
      "|    18|   1221|            Mafia|1461699303|\n",
      "|    18|   5995|        holocaust|1455735472|\n",
      "|    18|   5995|       true story|1455735479|\n",
      "|    18|  44665|     twist ending|1456948283|\n",
      "|    18|  52604|  Anthony Hopkins|1457650696|\n",
      "|    18|  52604|  courtroom drama|1457650711|\n",
      "+------+-------+-----------------+----------+\n",
      "only showing top 20 rows\n",
      "\n"
     ]
    }
   ],
   "source": [
    "spark.sql(\"select * from moviesTable\").show()\n",
    "spark.sql(\"select * from ratingTable\").show()\n",
    "spark.sql(\"select * from tagsTable\").show()"
   ]
  },
  {
   "cell_type": "code",
   "execution_count": 20,
   "id": "2a7c7d75-63f6-4c0d-8fb7-38ea65a89adc",
   "metadata": {},
   "outputs": [
    {
     "name": "stdout",
     "output_type": "stream",
     "text": [
      "+--------------------+\n",
      "|               title|\n",
      "+--------------------+\n",
      "|Mutiny on the Bou...|\n",
      "|Call Northside 77...|\n",
      "|Color of Paradise...|\n",
      "|For All Mankind (...|\n",
      "|Browning Version,...|\n",
      "|I Know Where I'm ...|\n",
      "|        Proof (1991)|\n",
      "|Twentieth Century...|\n",
      "|Innocents, The (1...|\n",
      "|In the Realms of ...|\n",
      "|Parallax View, Th...|\n",
      "|Road Home, The (W...|\n",
      "|Roaring Twenties,...|\n",
      "|  Chalet Girl (2011)|\n",
      "|      Scrooge (1970)|\n",
      "|      Niagara (1953)|\n",
      "|  Chosen, The (1981)|\n",
      "|This Gun for Hire...|\n",
      "+--------------------+\n",
      "\n"
     ]
    }
   ],
   "source": [
    "# solving by sql query\n",
    "# d. Show the 18 movies that are tagged but not rated\n",
    "spark.sql(\"\"\"\n",
    "    select distinct title from moviesTable as m\n",
    "    join tagsTable as t on m.movieid=t.movieid\n",
    "    left join ratingTable as r on r.movieid=m.movieid\n",
    "    where rating is null\n",
    "        \"\"\").show()"
   ]
  },
  {
   "cell_type": "code",
   "execution_count": 21,
   "id": "4fd71e2d-e1de-4218-a296-c42df9f009fa",
   "metadata": {},
   "outputs": [],
   "source": [
    "# movies.write.csv('movies', header=True, mode='overwrite')\n",
    "# tags_df1.write.csv('tags', header=True, mode='overwrite')\n",
    "# ratings_df1.write.csv('ratings', header=True, mode='overwrite')"
   ]
  },
  {
   "cell_type": "code",
   "execution_count": 22,
   "id": "4eb1b349-0552-4656-8710-176bfa841d55",
   "metadata": {},
   "outputs": [
    {
     "name": "stdout",
     "output_type": "stream",
     "text": [
      "18\n",
      "+--------------------+\n",
      "|               title|\n",
      "+--------------------+\n",
      "|Mutiny on the Bou...|\n",
      "|Call Northside 77...|\n",
      "|Color of Paradise...|\n",
      "|For All Mankind (...|\n",
      "|Browning Version,...|\n",
      "|I Know Where I'm ...|\n",
      "|        Proof (1991)|\n",
      "|Twentieth Century...|\n",
      "|Innocents, The (1...|\n",
      "|In the Realms of ...|\n",
      "|Parallax View, Th...|\n",
      "|Road Home, The (W...|\n",
      "|Roaring Twenties,...|\n",
      "|  Chalet Girl (2011)|\n",
      "|      Scrooge (1970)|\n",
      "|      Niagara (1953)|\n",
      "|  Chosen, The (1981)|\n",
      "|This Gun for Hire...|\n",
      "+--------------------+\n",
      "\n"
     ]
    }
   ],
   "source": [
    "# d. Show the 18 movies that are tagged but not rated\n",
    "not_rated_tags = movies.join(tags_df1, tags_df1.movieid==movies.movieid, 'inner')\\\n",
    "                        .join(ratings_df1, ratings_df1.movieid==movies.movieid, 'left')\\\n",
    "                        .filter(col('rating').isNull())\\\n",
    "                        .select(\"title\").distinct()\n",
    "print(not_rated_tags.count())\n",
    "not_rated_tags.show()"
   ]
  },
  {
   "cell_type": "code",
   "execution_count": 23,
   "id": "ef3a4027-c770-476c-b72e-351926373e0a",
   "metadata": {},
   "outputs": [
    {
     "name": "stdout",
     "output_type": "stream",
     "text": [
      "52549\n",
      "+-------+--------------------+--------------------+------+-------+------+-------------------+------+-------+----+---------+\n",
      "|movieid|               title|              genres|userid|movieid|rating|          timestamp|userid|movieid| tag|timestamp|\n",
      "+-------+--------------------+--------------------+------+-------+------+-------------------+------+-------+----+---------+\n",
      "|      6|         Heat (1995)|Action|Crime|Thri...|     1|      6|   4.0|2000-07-31 00:07:04|  NULL|   NULL|NULL|     NULL|\n",
      "|     70|From Dusk Till Da...|Action|Comedy|Hor...|     1|     70|   3.0|2000-07-31 00:10:00|  NULL|   NULL|NULL|     NULL|\n",
      "|    151|      Rob Roy (1995)|Action|Drama|Roma...|     1|    151|   5.0|2000-07-31 00:37:21|  NULL|   NULL|NULL|     NULL|\n",
      "|    157|Canadian Bacon (1...|          Comedy|War|     1|    157|   5.0|2000-07-31 00:38:20|  NULL|   NULL|NULL|     NULL|\n",
      "|    163|    Desperado (1995)|Action|Romance|We...|     1|    163|   5.0|2000-07-31 00:30:50|  NULL|   NULL|NULL|     NULL|\n",
      "|    231|Dumb & Dumber (Du...|    Adventure|Comedy|     1|    231|   5.0|2000-07-30 23:49:39|  NULL|   NULL|NULL|     NULL|\n",
      "|    333|    Tommy Boy (1995)|              Comedy|     1|    333|   5.0|2000-07-30 23:49:39|  NULL|   NULL|NULL|     NULL|\n",
      "|    362|Jungle Book, The ...|Adventure|Childre...|     1|    362|   5.0|2000-07-31 00:13:08|  NULL|   NULL|NULL|     NULL|\n",
      "|    367|    Mask, The (1994)|Action|Comedy|Cri...|     1|    367|   4.0|2000-07-30 23:58:30|  NULL|   NULL|NULL|     NULL|\n",
      "|    423|   Blown Away (1994)|     Action|Thriller|     1|    423|   3.0|2000-07-31 00:09:23|  NULL|   NULL|NULL|     NULL|\n",
      "|    441|Dazed and Confuse...|              Comedy|     1|    441|   4.0|2000-07-30 23:44:28|  NULL|   NULL|NULL|     NULL|\n",
      "|    553|    Tombstone (1993)|Action|Drama|Western|     1|    553|   5.0|2000-07-31 00:39:13|  NULL|   NULL|NULL|     NULL|\n",
      "|    661|James and the Gia...|Adventure|Animati...|     1|    661|   5.0|2000-07-31 00:17:18|  NULL|   NULL|NULL|     NULL|\n",
      "|    804|She's the One (1996)|      Comedy|Romance|     1|    804|   4.0|2000-07-30 23:38:19|  NULL|   NULL|NULL|     NULL|\n",
      "|   1009|Escape to Witch M...|Adventure|Childre...|     1|   1009|   3.0|2000-07-30 23:59:35|  NULL|   NULL|NULL|     NULL|\n",
      "|   1023|Winnie the Pooh a...|Animation|Childre...|     1|   1023|   5.0|2000-07-31 00:14:41|  NULL|   NULL|NULL|     NULL|\n",
      "|   1024|Three Caballeros,...|Animation|Childre...|     1|   1024|   5.0|2000-07-31 00:17:56|  NULL|   NULL|NULL|     NULL|\n",
      "|   1031|Bedknobs and Broo...|Adventure|Childre...|     1|   1031|   5.0|2000-07-31 00:14:13|  NULL|   NULL|NULL|     NULL|\n",
      "|   1049|Ghost and the Dar...|    Action|Adventure|     1|   1049|   5.0|2000-07-31 00:10:00|  NULL|   NULL|NULL|     NULL|\n",
      "|   1060|     Swingers (1996)|        Comedy|Drama|     1|   1060|   4.0|2000-07-30 23:45:24|  NULL|   NULL|NULL|     NULL|\n",
      "+-------+--------------------+--------------------+------+-------+------+-------------------+------+-------+----+---------+\n",
      "only showing top 20 rows\n",
      "\n",
      "+--------------------+\n",
      "|               title|\n",
      "+--------------------+\n",
      "|Gulliver's Travel...|\n",
      "|Before Night Fall...|\n",
      "| Three Wishes (1995)|\n",
      "| If Lucy Fell (1996)|\n",
      "|First Blood (Ramb...|\n",
      "|Don't Tell Mom th...|\n",
      "| Nut Job, The (2014)|\n",
      "|22 Jump Street (2...|\n",
      "|Starship Troopers...|\n",
      "|Voices from the L...|\n",
      "|My Father the Her...|\n",
      "|    Dead Meat (2004)|\n",
      "|National Lampoon'...|\n",
      "|7th Voyage of Sin...|\n",
      "|     Ip Man 3 (2015)|\n",
      "| Just Friends (2005)|\n",
      "|I Love You Philli...|\n",
      "|Tom Segura: Disgr...|\n",
      "|    Fair Game (1995)|\n",
      "|Problem Child (1990)|\n",
      "+--------------------+\n",
      "only showing top 20 rows\n",
      "\n"
     ]
    }
   ],
   "source": [
    "# e. Show the movies that have rating but no tag\n",
    "\n",
    "not_taged_movie = movies.join(ratings_df1, ratings_df1.movieid==movies.movieid, 'inner')\\\n",
    "                        .join(tags_df1, tags_df1.movieid==movies.movieid, 'left')\\\n",
    "                        .filter(col(\"tag\").isNull())\n",
    "\n",
    "print(not_taged_movie.count())\n",
    "not_taged_movie.show()\n",
    "not_taged_movie.select(col(\"title\")).distinct().show()"
   ]
  },
  {
   "cell_type": "code",
   "execution_count": 24,
   "id": "5fd53500-740e-4d06-b00b-3c48ec96e5eb",
   "metadata": {},
   "outputs": [
    {
     "name": "stdout",
     "output_type": "stream",
     "text": [
      "+--------------------+\n",
      "|               title|\n",
      "+--------------------+\n",
      "|Gulliver's Travel...|\n",
      "|Before Night Fall...|\n",
      "| Three Wishes (1995)|\n",
      "| If Lucy Fell (1996)|\n",
      "|First Blood (Ramb...|\n",
      "|Don't Tell Mom th...|\n",
      "| Nut Job, The (2014)|\n",
      "|22 Jump Street (2...|\n",
      "|Starship Troopers...|\n",
      "|Voices from the L...|\n",
      "|My Father the Her...|\n",
      "|    Dead Meat (2004)|\n",
      "|National Lampoon'...|\n",
      "|7th Voyage of Sin...|\n",
      "|     Ip Man 3 (2015)|\n",
      "| Just Friends (2005)|\n",
      "|I Love You Philli...|\n",
      "|Tom Segura: Disgr...|\n",
      "|    Fair Game (1995)|\n",
      "|Problem Child (1990)|\n",
      "+--------------------+\n",
      "only showing top 20 rows\n",
      "\n"
     ]
    }
   ],
   "source": [
    "## e.\n",
    "# solution with sql query\n",
    "spark.sql(\"\"\"\n",
    "        select distinct title from moviesTable as m\n",
    "        join ratingTable as r on m.movieid=r.movieid\n",
    "        left join tagsTable as t on t.movieid=m.movieid\n",
    "        where t.tag is null\n",
    "        \"\"\").show()"
   ]
  },
  {
   "cell_type": "code",
   "execution_count": 25,
   "id": "8a514374-534c-4292-98e1-ed7efc20326b",
   "metadata": {},
   "outputs": [
    {
     "name": "stdout",
     "output_type": "stream",
     "text": [
      "+-------+------+----+\n",
      "|movieid|rating|tag |\n",
      "+-------+------+----+\n",
      "|6      |4.0   |NULL|\n",
      "|70     |3.0   |NULL|\n",
      "|151    |5.0   |NULL|\n",
      "|157    |5.0   |NULL|\n",
      "|163    |5.0   |NULL|\n",
      "|231    |5.0   |NULL|\n",
      "|333    |5.0   |NULL|\n",
      "|362    |5.0   |NULL|\n",
      "|367    |4.0   |NULL|\n",
      "|423    |3.0   |NULL|\n",
      "|441    |4.0   |NULL|\n",
      "|553    |5.0   |NULL|\n",
      "|661    |5.0   |NULL|\n",
      "|804    |4.0   |NULL|\n",
      "|1009   |3.0   |NULL|\n",
      "|1023   |5.0   |NULL|\n",
      "|1024   |5.0   |NULL|\n",
      "|1031   |5.0   |NULL|\n",
      "|1049   |5.0   |NULL|\n",
      "|1060   |4.0   |NULL|\n",
      "+-------+------+----+\n",
      "only showing top 20 rows\n",
      "\n"
     ]
    }
   ],
   "source": [
    "# f. Focusing on the rated untagged movies with more than 30 user ratings, show the top 10 movies in terms of average rating and number of ratings\n",
    "spark.sql(\"\"\"\n",
    "        select m.movieid, r.rating, t.tag from moviesTable as m\n",
    "        join ratingTable as r on m.movieid==r.movieid\n",
    "        left join tagsTable as t on t.movieid==m.movieid\n",
    "        where tag is null\n",
    "        \"\"\")\\\n",
    "    .show(truncate=False)"
   ]
  },
  {
   "cell_type": "code",
   "execution_count": 26,
   "id": "fddd4888-d94e-4355-ac88-4a359a7c97da",
   "metadata": {},
   "outputs": [
    {
     "name": "stdout",
     "output_type": "stream",
     "text": [
      "+--------------------+\n",
      "|               title|\n",
      "+--------------------+\n",
      "|Gulliver's Travel...|\n",
      "|Before Night Fall...|\n",
      "| Three Wishes (1995)|\n",
      "| If Lucy Fell (1996)|\n",
      "|First Blood (Ramb...|\n",
      "|Don't Tell Mom th...|\n",
      "| Nut Job, The (2014)|\n",
      "|22 Jump Street (2...|\n",
      "|Starship Troopers...|\n",
      "|Voices from the L...|\n",
      "|My Father the Her...|\n",
      "|    Dead Meat (2004)|\n",
      "|National Lampoon'...|\n",
      "|7th Voyage of Sin...|\n",
      "|     Ip Man 3 (2015)|\n",
      "| Just Friends (2005)|\n",
      "|I Love You Philli...|\n",
      "|Tom Segura: Disgr...|\n",
      "|    Fair Game (1995)|\n",
      "|Problem Child (1990)|\n",
      "+--------------------+\n",
      "only showing top 20 rows\n",
      "\n",
      "+--------------------+\n",
      "|               title|\n",
      "+--------------------+\n",
      "|Gulliver's Travel...|\n",
      "|Before Night Fall...|\n",
      "| Three Wishes (1995)|\n",
      "| If Lucy Fell (1996)|\n",
      "|First Blood (Ramb...|\n",
      "|Don't Tell Mom th...|\n",
      "| Nut Job, The (2014)|\n",
      "|22 Jump Street (2...|\n",
      "|Starship Troopers...|\n",
      "|Voices from the L...|\n",
      "|My Father the Her...|\n",
      "|    Dead Meat (2004)|\n",
      "|National Lampoon'...|\n",
      "|7th Voyage of Sin...|\n",
      "|     Ip Man 3 (2015)|\n",
      "| Just Friends (2005)|\n",
      "|I Love You Philli...|\n",
      "|Tom Segura: Disgr...|\n",
      "|    Fair Game (1995)|\n",
      "|Problem Child (1990)|\n",
      "+--------------------+\n",
      "only showing top 20 rows\n",
      "\n"
     ]
    }
   ],
   "source": [
    "# f. Focusing on the rated untagged movies with more than 30 user ratings, show the top 10 movies in terms of average rating and number of ratings\n",
    "\n",
    "spark.sql(\"\"\"\n",
    "        select distinct m.title from moviestable as m\n",
    "        join ratingtable as r on m.movieid==r.movieid\n",
    "        left join tagstable as t on t.movieid==m.movieid\n",
    "        where tag is null\n",
    "        \"\"\").show()\n",
    "\n",
    "\n",
    "spark.sql(\"\"\"\n",
    "        select distinct title from moviesTable as m\n",
    "        join ratingTable as r on m.movieid=r.movieid\n",
    "        left join tagsTable as t on t.movieid=m.movieid\n",
    "        where t.tag is null\n",
    "        \"\"\").show()"
   ]
  },
  {
   "cell_type": "code",
   "execution_count": 27,
   "id": "0bf3dc69-af85-4ae3-a3f1-f35242436022",
   "metadata": {},
   "outputs": [
    {
     "name": "stdout",
     "output_type": "stream",
     "text": [
      "+-------+---------------------------------------------------------------------------------+----------+----------+\n",
      "|movieid|title                                                                            |avg_rating|num_rating|\n",
      "+-------+---------------------------------------------------------------------------------+----------+----------+\n",
      "|78836  |Enter the Void (2009)                                                            |5.0       |2         |\n",
      "|99     |Heidi Fleiss: Hollywood Madam (1995)                                             |5.0       |2         |\n",
      "|6442   |Belle époque (1992)                                                              |5.0       |2         |\n",
      "|3473   |Jonah Who Will Be 25 in the Year 2000 (Jonas qui aura 25 ans en l'an 2000) (1976)|5.0       |2         |\n",
      "|1151   |Lesson Faust (1994)                                                              |5.0       |2         |\n",
      "|53     |Lamerica (1994)                                                                  |5.0       |2         |\n",
      "|2512   |Ballad of Narayama, The (Narayama bushiko) (1983)                                |5.0       |1         |\n",
      "|136353 |Scooby-Doo! and the Loch Ness Monster (2004)                                     |5.0       |1         |\n",
      "|1631   |Assignment, The (1997)                                                           |5.0       |1         |\n",
      "|130978 |Love and Pigeons (1985)                                                          |5.0       |1         |\n",
      "+-------+---------------------------------------------------------------------------------+----------+----------+\n",
      "only showing top 10 rows\n",
      "\n"
     ]
    }
   ],
   "source": [
    "# f. Focusing on the rated untagged movies with more than 30 user ratings, show the top 10 movies in terms of average rating and number of ratings\n",
    "\n",
    "not_taged_movie.groupBy(movies.movieid, 'title')\\\n",
    "    .agg(avg(\"rating\").alias(\"avg_rating\")\\\n",
    "    ,count(\"rating\").alias(\"num_rating\"))\\\n",
    "    .orderBy(col(\"avg_rating\").desc(), col(\"num_rating\").desc()).show(10, truncate=False)"
   ]
  },
  {
   "cell_type": "code",
   "execution_count": 28,
   "id": "97fc905b-a675-4ac0-ab0c-9fe177f4eff7",
   "metadata": {},
   "outputs": [
    {
     "name": "stdout",
     "output_type": "stream",
     "text": [
      "Python 3.10.3\n"
     ]
    }
   ],
   "source": [
    "! python -V"
   ]
  },
  {
   "cell_type": "code",
   "execution_count": 29,
   "id": "207b4826-4b47-4fa5-b57c-5360b0060e91",
   "metadata": {},
   "outputs": [
    {
     "name": "stdout",
     "output_type": "stream",
     "text": [
      "8170\n",
      "+-------+--------------------+------------+----------+\n",
      "|movieid|               title|rating_count|avg_rating|\n",
      "+-------+--------------------+------------+----------+\n",
      "|  78836|Enter the Void (2...|           2|       5.0|\n",
      "|     99|Heidi Fleiss: Hol...|           2|       5.0|\n",
      "|   6442| Belle époque (1992)|           2|       5.0|\n",
      "|   3473|Jonah Who Will Be...|           2|       5.0|\n",
      "|   1151| Lesson Faust (1994)|           2|       5.0|\n",
      "|     53|     Lamerica (1994)|           2|       5.0|\n",
      "| 145994|Formula of Love (...|           1|       5.0|\n",
      "| 136503|Tom and Jerry: Sh...|           1|       5.0|\n",
      "| 115727|Crippled Avengers...|           1|       5.0|\n",
      "| 147300|Adventures Of She...|           1|       5.0|\n",
      "|   5468|20 Million Miles ...|           1|       5.0|\n",
      "|   5328|         Rain (2001)|           1|       5.0|\n",
      "|  26849|   Stand, The (1994)|           1|       5.0|\n",
      "|   2512|Ballad of Narayam...|           1|       5.0|\n",
      "|  93320|Trailer Park Boys...|           1|       5.0|\n",
      "|  72692|Mickey's Once Upo...|           1|       5.0|\n",
      "| 136353|Scooby-Doo! and t...|           1|       5.0|\n",
      "|   1631|Assignment, The (...|           1|       5.0|\n",
      "| 130978|Love and Pigeons ...|           1|       5.0|\n",
      "|  44851|Go for Zucker! (A...|           1|       5.0|\n",
      "+-------+--------------------+------------+----------+\n",
      "only showing top 20 rows\n",
      "\n"
     ]
    }
   ],
   "source": [
    "# f. Focusing on the rated untagged movies with more than 30 user ratings, show the top 10 movies in terms of average rating and number of ratings\n",
    "\n",
    "top_10_rated_untagged = spark.sql(\"\"\"\n",
    "        select t.movieid, t.title, count(rating) as rating_count, avg(rating) as avg_rating \n",
    "        from (select m.movieid, m.title, r.rating\n",
    "        from moviestable as m\n",
    "        join ratingtable as r on m.movieid==r.movieid\n",
    "        left join tagstable as t on t.movieid==m.movieid\n",
    "        where tag is null) as t\n",
    "        group by t.movieid, t.title\n",
    "        order by avg_rating desc, rating_count desc\n",
    "        \"\"\")\n",
    "\n",
    "\n",
    "print(top_10_rated_untagged.count())\n",
    "top_10_rated_untagged.show()"
   ]
  },
  {
   "cell_type": "code",
   "execution_count": 30,
   "id": "24623a81-8d92-4ee2-a5f6-25f8f9e6a51b",
   "metadata": {},
   "outputs": [],
   "source": [
    "from pyspark.sql.functions import col"
   ]
  },
  {
   "cell_type": "code",
   "execution_count": 31,
   "id": "40003dd8-dfe7-40bd-9df3-67c183c59b1f",
   "metadata": {},
   "outputs": [
    {
     "name": "stdout",
     "output_type": "stream",
     "text": [
      "+---------+\n",
      "|tag_count|\n",
      "+---------+\n",
      "|     3683|\n",
      "+---------+\n",
      "\n",
      "+-------------+\n",
      "|num_of_movies|\n",
      "+-------------+\n",
      "|         1572|\n",
      "+-------------+\n",
      "\n",
      "+-----------------+\n",
      "|avg_tag_per_movie|\n",
      "+-----------------+\n",
      "|              2.0|\n",
      "+-----------------+\n",
      "\n"
     ]
    }
   ],
   "source": [
    "# g. What is the average number of tags per movie in tagsDF? And the\n",
    "\n",
    "spark.sql(\"\"\"\n",
    "        with cte as (select count(tag) as tag_count \n",
    "        from tagstable)\n",
    "        select * \n",
    "        from cte\n",
    "        \"\"\").show()\n",
    "\n",
    "\n",
    "\n",
    "spark.sql(\"select count(distinct(movieid)) as num_of_movies from tagstable\").show()\n",
    "\n",
    "\n",
    "# final answer\n",
    "spark.sql(\"\"\"\n",
    "        with cte as (select count(tag) as tag_count \n",
    "        from tagstable)\n",
    "        select round(cte.tag_count/(select count(distinct(movieid)) as num_of_movies from tagstable)) as avg_tag_per_movie \n",
    "        from cte\n",
    "        \"\"\").show()"
   ]
  },
  {
   "cell_type": "code",
   "execution_count": 32,
   "id": "7b25d915-2779-41b5-9d2f-3f45533ab993",
   "metadata": {},
   "outputs": [
    {
     "name": "stdout",
     "output_type": "stream",
     "text": [
      "3683\n",
      "1572\n",
      "2\n"
     ]
    }
   ],
   "source": [
    "# collect the data to use collect function\n",
    "# g. What is the average number of tags per movie in tagsDF? And the\n",
    "tags = tags_df1.agg(count(\"tag\").alias(\"total_tags\")).collect()[0]['total_tags']\n",
    "print(tags)\n",
    "\n",
    "total_movies = tags_df1.select(col(\"movieid\")).distinct().count()\n",
    "print(total_movies)\n",
    "\n",
    "avg_tag_per_movie = tags / total_movies\n",
    "print(int(avg_tag_per_movie))"
   ]
  },
  {
   "cell_type": "code",
   "execution_count": 33,
   "id": "beca5b95-9bbb-4069-bc52-44bfe78a7623",
   "metadata": {},
   "outputs": [
    {
     "name": "stdout",
     "output_type": "stream",
     "text": [
      "+------+\n",
      "|userid|\n",
      "+------+\n",
      "|   474|\n",
      "|   318|\n",
      "|   543|\n",
      "|   288|\n",
      "+------+\n",
      "\n",
      "+------+\n",
      "|userid|\n",
      "+------+\n",
      "|   474|\n",
      "|   318|\n",
      "|   543|\n",
      "|   288|\n",
      "+------+\n",
      "\n",
      "+------+\n",
      "|userid|\n",
      "+------+\n",
      "|   474|\n",
      "|   318|\n",
      "|   543|\n",
      "|   288|\n",
      "+------+\n",
      "\n"
     ]
    }
   ],
   "source": [
    "# h. Identify the users that tagged movies without rating them\n",
    "\n",
    "spark.sql(\"\"\"\n",
    "        select  distinct t.userid from moviestable as m\n",
    "        join tagstable as t on m.movieid=t.movieid\n",
    "        left join ratingtable as r on m.movieid=r.movieid\n",
    "        where r.rating is null\n",
    "        \"\"\")\\\n",
    "    .show()\n",
    "# -----------------------------------------------------------\n",
    "# using pyspark\n",
    "\n",
    "movies.join(tags_df1, tags_df1.movieid==movies.movieid, 'inner')\\\n",
    "    .join(ratings_df1, ratings_df1.movieid==movies.movieid, 'left')\\\n",
    "    .filter(ratings_df1.rating.isNull())\\\n",
    "    .select(tags_df1.userid).distinct()\\\n",
    "    .show()\n",
    "\n",
    "# ------------------------------------------------------------\n",
    "\n",
    "taged_not_rated = movies.join(tags_df1, tags_df1.movieid==movies.movieid, 'inner')\\\n",
    "    .join(ratings_df1, ratings_df1.movieid==movies.movieid, 'left')\\\n",
    "    .filter(col(\"rating\").isNull())\n",
    "\n",
    "taged_not_rated.select(tags_df1.userid).distinct().show()"
   ]
  },
  {
   "cell_type": "code",
   "execution_count": 34,
   "id": "7e9b2fa9-c017-4d01-9989-b875ab3bdc17",
   "metadata": {},
   "outputs": [
    {
     "name": "stdout",
     "output_type": "stream",
     "text": [
      "100836\n",
      "610\n",
      "165.30491803278687\n"
     ]
    }
   ],
   "source": [
    "# i. What is the average number of ratings per user in ratings DF? And the average number of ratings per movie?\n",
    "raitng_count = ratings_df1.agg(count(\"rating\").alias(\"rating_count\")).collect()[0]['rating_count']\n",
    "print(raitng_count)\n",
    "\n",
    "user_count = ratings_df1.select(\"userid\").distinct().count()\n",
    "print(user_count)\n",
    "avg_rating_per_user = raitng_count/user_count\n",
    "print(avg_rating_per_user)"
   ]
  },
  {
   "cell_type": "code",
   "execution_count": 35,
   "id": "3f95af42-4e68-498e-aad5-18d19d7d6ad2",
   "metadata": {},
   "outputs": [
    {
     "name": "stdout",
     "output_type": "stream",
     "text": [
      "100836\n",
      "610\n",
      "165.30491803278687\n"
     ]
    }
   ],
   "source": [
    "count_ratings=ratings_df1.agg(count(\"rating\").alias(\"count_rating\")).collect()[0]['count_rating']\n",
    "print(count_ratings)\n",
    "total_users=ratings_df1.select(\"userId\").distinct().count()\n",
    "print(total_users)\n",
    "\n",
    "avg_ratings_per_user=count_ratings/total_users\n",
    "print(avg_ratings_per_user)"
   ]
  },
  {
   "cell_type": "code",
   "execution_count": 36,
   "id": "89473fb2-79e6-4d6b-bdc9-c9df740077ee",
   "metadata": {},
   "outputs": [
    {
     "name": "stdout",
     "output_type": "stream",
     "text": [
      "+----------+\n",
      "|user_count|\n",
      "+----------+\n",
      "|       610|\n",
      "+----------+\n",
      "\n",
      "+------------+\n",
      "|total_userid|\n",
      "+------------+\n",
      "|      100836|\n",
      "+------------+\n",
      "\n",
      "+------------------+\n",
      "|      total_userid|\n",
      "+------------------+\n",
      "|165.30491803278687|\n",
      "+------------------+\n",
      "\n"
     ]
    }
   ],
   "source": [
    "spark.sql(\"select count(distinct userid) as user_count from ratingtable\").show()\n",
    "\n",
    "spark.sql(\"select count(*) as total_userid from ratingtable\").show()\n",
    "\n",
    "spark.sql(\"select count(*)/(select count(distinct userid) as user_count from ratingtable) as total_userid from ratingtable\").show()"
   ]
  },
  {
   "cell_type": "code",
   "execution_count": 37,
   "id": "5ca031b2-ba3c-4c75-8d44-1b2a3b3f5c01",
   "metadata": {},
   "outputs": [
    {
     "name": "stdout",
     "output_type": "stream",
     "text": [
      "+----------+\n",
      "|total_user|\n",
      "+----------+\n",
      "|    100836|\n",
      "+----------+\n",
      "\n"
     ]
    }
   ],
   "source": [
    "ratings_df1.agg(count(\"userid\").alias(\"total_user\")).show()"
   ]
  },
  {
   "cell_type": "code",
   "execution_count": 38,
   "id": "4b1e9453-3a2f-4c69-8c9e-4e1086a257b9",
   "metadata": {},
   "outputs": [
    {
     "data": {
      "text/plain": [
       "100836"
      ]
     },
     "execution_count": 38,
     "metadata": {},
     "output_type": "execute_result"
    }
   ],
   "source": [
    "ratings_df1.agg(count(\"userid\").alias(\"user_count\")).collect()[0][\"user_count\"]"
   ]
  },
  {
   "cell_type": "code",
   "execution_count": 39,
   "id": "c036319d-0f18-4836-8800-33f582ad5681",
   "metadata": {},
   "outputs": [
    {
     "name": "stdout",
     "output_type": "stream",
     "text": [
      "9742\n",
      "100836\n",
      "10.350646684459043\n"
     ]
    }
   ],
   "source": [
    "# j. What is the predominant (frequency based) genre per rating level?\n",
    "\n",
    "genres_count = movies.agg(count(\"genres\").alias(\"genres_count\")).collect()[0]['genres_count']\n",
    "print(genres_count)\n",
    "rating_count = ratings_df1.agg(count(\"rating\").alias(\"rating_count\")).collect()[0][\"rating_count\"]\n",
    "print(rating_count)\n",
    "\n",
    "geners_per_rating = rating_count / genres_count\n",
    "print(geners_per_rating)"
   ]
  },
  {
   "cell_type": "code",
   "execution_count": 40,
   "id": "6d8ef094-bd36-4952-aae6-0b992de0f31d",
   "metadata": {},
   "outputs": [
    {
     "name": "stdout",
     "output_type": "stream",
     "text": [
      "+-------+--------------------+--------------------+\n",
      "|movieid|               title|              genres|\n",
      "+-------+--------------------+--------------------+\n",
      "|      1|    Toy Story (1995)|Adventure|Animati...|\n",
      "|      2|      Jumanji (1995)|Adventure|Childre...|\n",
      "|      3|Grumpier Old Men ...|      Comedy|Romance|\n",
      "|      4|Waiting to Exhale...|Comedy|Drama|Romance|\n",
      "|      5|Father of the Bri...|              Comedy|\n",
      "|      6|         Heat (1995)|Action|Crime|Thri...|\n",
      "|      7|      Sabrina (1995)|      Comedy|Romance|\n",
      "|      8| Tom and Huck (1995)|  Adventure|Children|\n",
      "|      9| Sudden Death (1995)|              Action|\n",
      "|     10|    GoldenEye (1995)|Action|Adventure|...|\n",
      "|     11|American Presiden...|Comedy|Drama|Romance|\n",
      "|     12|Dracula: Dead and...|       Comedy|Horror|\n",
      "|     13|        Balto (1995)|Adventure|Animati...|\n",
      "|     14|        Nixon (1995)|               Drama|\n",
      "|     15|Cutthroat Island ...|Action|Adventure|...|\n",
      "|     16|       Casino (1995)|         Crime|Drama|\n",
      "|     17|Sense and Sensibi...|       Drama|Romance|\n",
      "|     18|   Four Rooms (1995)|              Comedy|\n",
      "|     19|Ace Ventura: When...|              Comedy|\n",
      "|     20|  Money Train (1995)|Action|Comedy|Cri...|\n",
      "+-------+--------------------+--------------------+\n",
      "only showing top 20 rows\n",
      "\n"
     ]
    }
   ],
   "source": [
    "spark.sql(\"select * from moviestable\").show()"
   ]
  },
  {
   "cell_type": "code",
   "execution_count": 41,
   "id": "9ab4ffdc-d609-4644-bfb5-550590158f68",
   "metadata": {},
   "outputs": [],
   "source": [
    "# j. What is the predominant (frequency based) genre per rating level?\n",
    "from pyspark.sql.window import Window"
   ]
  },
  {
   "cell_type": "code",
   "execution_count": 42,
   "id": "11620231-c214-428a-9e50-f0d6b1d95fa4",
   "metadata": {},
   "outputs": [
    {
     "name": "stdout",
     "output_type": "stream",
     "text": [
      "+------+------+\n",
      "|rating| genre|\n",
      "+------+------+\n",
      "|   5.0| Drama|\n",
      "|   4.5| Drama|\n",
      "|   4.0| Drama|\n",
      "|   3.5| Drama|\n",
      "|   3.0|Comedy|\n",
      "|   2.5|Comedy|\n",
      "|   2.0|Comedy|\n",
      "|   1.5|Comedy|\n",
      "|   1.0|Comedy|\n",
      "|   0.5|Comedy|\n",
      "+------+------+\n",
      "\n"
     ]
    }
   ],
   "source": [
    "# copied from assignmet solution\n",
    "from pyspark.sql.window import Window\n",
    "\n",
    "joined_df=ratings_df1.join(movies, ratings_df1.movieid == movies.movieid, 'inner')\n",
    "exploded_df = joined_df.withColumn(\"genre\", explode(split(\"genres\", \"/|\")))\n",
    "grouped_df = exploded_df.groupBy(\"rating\", \"genre\").count()\n",
    "\n",
    "window=Window.partitionBy(\"rating\").orderBy(col(\"count\").desc())\n",
    "ranked_df=grouped_df.withColumn(\"rank\", rank().over(window)).filter(col(\"rank\") == 1).orderBy(col(\"rating\").desc())\n",
    "\n",
    "ranked_df.select(\"rating\", \"genre\").show()"
   ]
  },
  {
   "cell_type": "code",
   "execution_count": 43,
   "id": "246a27eb-363a-4b8e-8cd9-211e6a66c6fe",
   "metadata": {
    "scrolled": true
   },
   "outputs": [
    {
     "name": "stdout",
     "output_type": "stream",
     "text": [
      "+------+------+\n",
      "|rating| genre|\n",
      "+------+------+\n",
      "|   5.0| Drama|\n",
      "|   4.5| Drama|\n",
      "|   4.0| Drama|\n",
      "|   3.5| Drama|\n",
      "|   3.0|Comedy|\n",
      "|   2.5|Comedy|\n",
      "|   2.0|Comedy|\n",
      "|   1.5|Comedy|\n",
      "|   1.0|Comedy|\n",
      "|   0.5|Comedy|\n",
      "+------+------+\n",
      "\n"
     ]
    }
   ],
   "source": [
    "joined_df = ratings_df1.join(movies, movies.movieid==ratings_df1.movieid, \"inner\")\n",
    "exploded_df = joined_df.withColumn(\"genre\", explode(split(\"genres\", \"\\|\")))\n",
    "grouped_df = exploded_df.groupBy(\"rating\", \"genre\").count()\n",
    "window = window.partitionBy(\"rating\").orderBy(col(\"count\").desc())\n",
    "ranked_df = grouped_df.withColumn(\"rank\", rank().over(window)).filter(col(\"rank\") == 1).orderBy(col(\"rating\").desc())\n",
    "ranked_df.select(\"rating\", \"genre\").show()"
   ]
  },
  {
   "cell_type": "code",
   "execution_count": 44,
   "id": "d110a275-c0fb-457b-b3c6-bc18822261bb",
   "metadata": {},
   "outputs": [
    {
     "name": "stdout",
     "output_type": "stream",
     "text": [
      "+------+------+\n",
      "|rating| genre|\n",
      "+------+------+\n",
      "|   5.0| Drama|\n",
      "|   4.5| Drama|\n",
      "|   4.0| Drama|\n",
      "|   3.5| Drama|\n",
      "|   3.0|Comedy|\n",
      "|   2.5|Comedy|\n",
      "|   2.0|Comedy|\n",
      "|   1.5|Comedy|\n",
      "|   1.0|Comedy|\n",
      "|   0.5|Comedy|\n",
      "+------+------+\n",
      "\n"
     ]
    }
   ],
   "source": [
    "joined_df = ratings_df1.join(movies, movies.movieid==ratings_df1.movieid, \"inner\")\n",
    "exploded_df = joined_df.withColumn(\"genre\", explode(split(\"genres\", \"\\|\")))\n",
    "grouped_df = exploded_df.groupBy(\"rating\", \"genre\").count()\n",
    "window = window.partitionBy(\"rating\").orderBy(col(\"count\").desc())\n",
    "ranked_df = grouped_df.withColumn(\"rank\", rank().over(window)).filter(col(\"rank\") == 1).orderBy(col(\"rating\").desc())\n",
    "ranked_df.select(\"rating\", \"genre\").show()"
   ]
  },
  {
   "cell_type": "code",
   "execution_count": 45,
   "id": "5ad29bac-89aa-43d6-8e60-96893906af35",
   "metadata": {},
   "outputs": [
    {
     "name": "stdout",
     "output_type": "stream",
     "text": [
      "+------+------+\n",
      "|rating| genre|\n",
      "+------+------+\n",
      "|   5.0| Drama|\n",
      "|   4.5| Drama|\n",
      "|   4.0| Drama|\n",
      "|   3.5| Drama|\n",
      "|   3.0|Comedy|\n",
      "|   2.5|Comedy|\n",
      "|   2.0|Comedy|\n",
      "|   1.5|Comedy|\n",
      "|   1.0|Comedy|\n",
      "|   0.5|Comedy|\n",
      "+------+------+\n",
      "\n"
     ]
    }
   ],
   "source": [
    "from pyspark.sql.window import Window\n",
    "\n",
    "joined_table = ratings_df1.join(movies, movies.movieid==ratings_df1.movieid, \"inner\")\n",
    "exploded_table = joined_table.withColumn(\"genre\", explode(split(\"genres\", \"\\|\")))\n",
    "grouped_table = exploded_table.groupBy(\"rating\", \"genre\").count()\n",
    "window_table = window.partitionBy(\"rating\").orderBy(col(\"count\").desc())\n",
    "ranked_df = grouped_df.withColumn(\"rank\", rank().over(window_table)).filter(col(\"rank\") == 1).orderBy(col(\"rating\").desc())\n",
    "ranked_df.select(\"rating\", \"genre\").show()"
   ]
  },
  {
   "cell_type": "code",
   "execution_count": 46,
   "id": "0f3da581-5445-43e4-aa48-acc6e632f606",
   "metadata": {
    "scrolled": true
   },
   "outputs": [
    {
     "name": "stdout",
     "output_type": "stream",
     "text": [
      "+------------------+--------------------+\n",
      "|             genre|   collect_list(tag)|\n",
      "+------------------+--------------------+\n",
      "|(no genres listed)|[quirky, understa...|\n",
      "|            Action|         [superhero]|\n",
      "|         Adventure|         [superhero]|\n",
      "|         Animation|            [Disney]|\n",
      "|          Children|            [Disney]|\n",
      "|            Comedy|  [In Netflix queue]|\n",
      "|             Crime|  [In Netflix queue]|\n",
      "|       Documentary|  [In Netflix queue]|\n",
      "|             Drama|  [In Netflix queue]|\n",
      "|           Fantasy|            [Disney]|\n",
      "|         Film-Noir|  [In Netflix queue]|\n",
      "|            Horror|[Stephen King, gh...|\n",
      "|              IMAX|[visually appeali...|\n",
      "|           Musical|            [Disney]|\n",
      "|           Mystery|      [twist ending]|\n",
      "|           Romance|  [In Netflix queue]|\n",
      "|            Sci-Fi|            [sci-fi]|\n",
      "|          Thriller|       [atmospheric]|\n",
      "|               War|           [Vietnam]|\n",
      "|           Western|  [In Netflix queue]|\n",
      "+------------------+--------------------+\n",
      "\n"
     ]
    }
   ],
   "source": [
    "# k. What is the predominant tag per genre and the most tagged genres?\n",
    "\n",
    "joined_table = movies.join(tags_df1, tags_df1.movieid==movies.movieid, \"inner\")\n",
    "exploded_table = joined_table.withColumn(\"genre\", explode(split(\"genres\", \"\\|\")))\n",
    "grouped_table = exploded_table.groupBy(\"genre\", \"tag\").count()\n",
    "\n",
    "window = window.partitionBy(\"genre\").orderBy(desc(\"count\"))\n",
    "ranked_table = grouped_table.withColumn(\"rank\", rank().over(window)).filter(col(\"rank\") == 1)\n",
    "ranked_table.select(\"tag\", \"genre\").groupBy(\"genre\").agg(collect_list(\"tag\")).show()"
   ]
  },
  {
   "cell_type": "code",
   "execution_count": 47,
   "id": "6babaf05-8de5-412f-978b-92db16f0cf61",
   "metadata": {},
   "outputs": [
    {
     "name": "stdout",
     "output_type": "stream",
     "text": [
      "+-----------------------------------------+-----------+\n",
      "|title                                    |movie_count|\n",
      "+-----------------------------------------+-----------+\n",
      "|Forrest Gump (1994)                      |329        |\n",
      "|Shawshank Redemption, The (1994)         |317        |\n",
      "|Pulp Fiction (1994)                      |307        |\n",
      "|Silence of the Lambs, The (1991)         |279        |\n",
      "|Matrix, The (1999)                       |278        |\n",
      "|Star Wars: Episode IV - A New Hope (1977)|251        |\n",
      "|Jurassic Park (1993)                     |238        |\n",
      "|Braveheart (1995)                        |237        |\n",
      "|Terminator 2: Judgment Day (1991)        |224        |\n",
      "|Schindler's List (1993)                  |220        |\n",
      "+-----------------------------------------+-----------+\n",
      "only showing top 10 rows\n",
      "\n"
     ]
    }
   ],
   "source": [
    "## l.  What are the most predominant (popularity based) movies?\n",
    "\n",
    "joined_df = ratings_df1.join(movies, ratings_df1.movieid==movies.movieid, \"inner\")\n",
    "grouped_df = joined_df.groupBy(\"title\")\\\n",
    "                    .agg(count(\"title\").alias(\"movie_count\"))\n",
    "\n",
    "grouped_df.select(\"*\")\\\n",
    "    .orderBy(desc(\"movie_count\"))\\\n",
    "    .show(10, truncate=False)"
   ]
  },
  {
   "cell_type": "code",
   "execution_count": 48,
   "id": "0584915a-a6f3-486d-a070-a8e5ade3da41",
   "metadata": {},
   "outputs": [
    {
     "name": "stdout",
     "output_type": "stream",
     "text": [
      "+--------------------+------------+\n",
      "|               title|rating_count|\n",
      "+--------------------+------------+\n",
      "| Forrest Gump (1994)|         329|\n",
      "|Shawshank Redempt...|         317|\n",
      "| Pulp Fiction (1994)|         307|\n",
      "|Silence of the La...|         279|\n",
      "|  Matrix, The (1999)|         278|\n",
      "|Star Wars: Episod...|         251|\n",
      "|Jurassic Park (1993)|         238|\n",
      "|   Braveheart (1995)|         237|\n",
      "|Terminator 2: Jud...|         224|\n",
      "|Schindler's List ...|         220|\n",
      "+--------------------+------------+\n",
      "\n"
     ]
    }
   ],
   "source": [
    "## l.  What are the most predominant (popularity based) movies?\n",
    "# usign sql query\n",
    "\n",
    "spark.sql(\"\"\"\n",
    "        select m.title, count(rating) as rating_count \n",
    "        from moviestable as m\n",
    "        join ratingtable as r on m.movieid=r.movieid\n",
    "        group by m.title\n",
    "        order by rating_count desc\n",
    "        limit 10\n",
    "        \"\"\")\\\n",
    "    .show()"
   ]
  },
  {
   "cell_type": "code",
   "execution_count": 49,
   "id": "f5265fc1-d388-44c6-8647-987f804f8548",
   "metadata": {},
   "outputs": [
    {
     "name": "stdout",
     "output_type": "stream",
     "text": [
      "+-----------------------------------------+-----+\n",
      "|title                                    |count|\n",
      "+-----------------------------------------+-----+\n",
      "|Forrest Gump (1994)                      |329  |\n",
      "|Shawshank Redemption, The (1994)         |317  |\n",
      "|Pulp Fiction (1994)                      |307  |\n",
      "|Silence of the Lambs, The (1991)         |279  |\n",
      "|Matrix, The (1999)                       |278  |\n",
      "|Star Wars: Episode IV - A New Hope (1977)|251  |\n",
      "|Jurassic Park (1993)                     |238  |\n",
      "|Braveheart (1995)                        |237  |\n",
      "|Terminator 2: Judgment Day (1991)        |224  |\n",
      "|Schindler's List (1993)                  |220  |\n",
      "+-----------------------------------------+-----+\n",
      "only showing top 10 rows\n",
      "\n"
     ]
    }
   ],
   "source": [
    "most_predominant_df = movies.join(ratings_df1, ratings_df1.movieid==movies.movieid, \"inner\")\\\n",
    "                            .groupby(col(\"title\").alias(\"title\")).count()\\\n",
    "                            .orderBy(desc(col(\"count\")))\\\n",
    "                            .show(10, truncate=False)"
   ]
  },
  {
   "cell_type": "code",
   "execution_count": 50,
   "id": "0915064e-1f15-4f9e-b600-6cde6b4f96ac",
   "metadata": {},
   "outputs": [
    {
     "name": "stdout",
     "output_type": "stream",
     "text": [
      "+--------------------+-----+-----------------+\n",
      "|               title|count|              avg|\n",
      "+--------------------+-----+-----------------+\n",
      "|Shawshank Redempt...|  317|4.429022082018927|\n",
      "|Lawrence of Arabi...|   45|              4.3|\n",
      "|Godfather, The (1...|  192|        4.2890625|\n",
      "|   Fight Club (1999)|  218|4.272935779816514|\n",
      "|Cool Hand Luke (1...|   57|4.271929824561403|\n",
      "+--------------------+-----+-----------------+\n",
      "only showing top 5 rows\n",
      "\n"
     ]
    }
   ],
   "source": [
    "# m. Top 10 movies in terms of average rating (provided more than 30 users reviewed them)\n",
    "\n",
    "joined_df = ratings_df1.join(movies, movies.movieid==ratings_df1.movieid, \"inner\")\n",
    "grouded_df = joined_df.groupBy(\"title\")\\\n",
    "                        .agg(count(\"title\").alias(\"count\"),\n",
    "                            avg(\"rating\").alias(\"avg\"))\\\n",
    "                        .filter(col(\"count\") > 30)\n",
    "\n",
    "grouded_df.select(\"*\").orderBy(desc(\"avg\")).show(5)"
   ]
  },
  {
   "cell_type": "code",
   "execution_count": 51,
   "id": "2a89a2b7-70b7-45b1-bc0d-c83e0bdb1c8a",
   "metadata": {},
   "outputs": [
    {
     "name": "stdout",
     "output_type": "stream",
     "text": [
      "+--------------------------------+-----------+-----------------+\n",
      "|title                           |movie_count|avg_rating       |\n",
      "+--------------------------------+-----------+-----------------+\n",
      "|Shawshank Redemption, The (1994)|317        |4.429022082018927|\n",
      "|Lawrence of Arabia (1962)       |45         |4.3              |\n",
      "|Godfather, The (1972)           |192        |4.2890625        |\n",
      "|Fight Club (1999)               |218        |4.272935779816514|\n",
      "|Cool Hand Luke (1967)           |57         |4.271929824561403|\n",
      "+--------------------------------+-----------+-----------------+\n",
      "\n"
     ]
    }
   ],
   "source": [
    "# m. Top 10 movies in terms of average rating (provided more than 30 users reviewed them)\n",
    "# sql query\n",
    "spark.sql(\"\"\"\n",
    "        select m.title, count(title) as movie_count, avg(rating) as avg_rating \n",
    "        from moviestable as m\n",
    "        join ratingtable as r on m.movieid=r.movieid\n",
    "        group by m.title\n",
    "        having movie_count > 30\n",
    "        order by avg_rating desc\n",
    "        limit 5\n",
    "        \"\"\")\\\n",
    "    .show(truncate=False)"
   ]
  },
  {
   "cell_type": "code",
   "execution_count": 52,
   "id": "2b97d406-6f79-4d03-b18a-620d9027811b",
   "metadata": {},
   "outputs": [],
   "source": [
    "import matplotlib.pyplot as plt"
   ]
  },
  {
   "cell_type": "code",
   "execution_count": 58,
   "id": "b376147c-75d2-4861-a7c7-4ed315d5466d",
   "metadata": {},
   "outputs": [
    {
     "name": "stdout",
     "output_type": "stream",
     "text": [
      "+--------------------+-----+------------------+\n",
      "|               title|count|               avg|\n",
      "+--------------------+-----+------------------+\n",
      "|Shawshank Redempt...|  317| 4.429022082018927|\n",
      "|Lawrence of Arabi...|   45|               4.3|\n",
      "|Godfather, The (1...|  192|         4.2890625|\n",
      "|   Fight Club (1999)|  218| 4.272935779816514|\n",
      "|Cool Hand Luke (1...|   57| 4.271929824561403|\n",
      "|Dr. Strangelove o...|   97| 4.268041237113402|\n",
      "|  Rear Window (1954)|   84| 4.261904761904762|\n",
      "|Godfather: Part I...|  129|  4.25968992248062|\n",
      "|Departed, The (2006)|  107| 4.252336448598131|\n",
      "|   Goodfellas (1990)|  126|              4.25|\n",
      "|   Casablanca (1942)|  100|              4.24|\n",
      "|Dark Knight, The ...|  149| 4.238255033557047|\n",
      "|Usual Suspects, T...|  204| 4.237745098039215|\n",
      "|Princess Bride, T...|  142| 4.232394366197183|\n",
      "|Star Wars: Episod...|  251| 4.231075697211155|\n",
      "|Schindler's List ...|  220|             4.225|\n",
      "|Boondock Saints, ...|   43|  4.22093023255814|\n",
      "|Apocalypse Now (1...|  107| 4.219626168224299|\n",
      "|American History ...|  129| 4.217054263565892|\n",
      "|Star Wars: Episod...|  211|4.2156398104265405|\n",
      "+--------------------+-----+------------------+\n",
      "only showing top 20 rows\n",
      "\n"
     ]
    }
   ],
   "source": [
    "joined_df = ratings_df1.join(movies, movies.movieid==ratings_df1.movieid, \"inner\")\n",
    "grouded_df = joined_df.groupBy(\"title\")\\\n",
    "                        .agg(count(\"title\").alias(\"count\"),\n",
    "                            avg(\"rating\").alias(\"avg\"))\\\n",
    "                        .filter(col(\"count\") > 30)\n",
    "\n",
    "grouded_df.select(\"*\").orderBy(desc(\"avg\")).show()"
   ]
  },
  {
   "cell_type": "code",
   "execution_count": null,
   "id": "45e40e0c-5e9c-4e87-9d44-fa7b0cb04b2d",
   "metadata": {},
   "outputs": [],
   "source": []
  },
  {
   "cell_type": "code",
   "execution_count": null,
   "id": "b9b86da2-36bf-46e4-890f-ae78f1c9769f",
   "metadata": {},
   "outputs": [],
   "source": []
  },
  {
   "cell_type": "code",
   "execution_count": null,
   "id": "1d272ac8-21ea-4404-815a-308eb1a92124",
   "metadata": {},
   "outputs": [],
   "source": []
  }
 ],
 "metadata": {
  "kernelspec": {
   "display_name": "Python 3 (ipykernel)",
   "language": "python",
   "name": "python3"
  },
  "language_info": {
   "codemirror_mode": {
    "name": "ipython",
    "version": 3
   },
   "file_extension": ".py",
   "mimetype": "text/x-python",
   "name": "python",
   "nbconvert_exporter": "python",
   "pygments_lexer": "ipython3",
   "version": "3.10.3"
  }
 },
 "nbformat": 4,
 "nbformat_minor": 5
}
