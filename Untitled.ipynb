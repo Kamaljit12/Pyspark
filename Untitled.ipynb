{
 "cells": [
  {
   "cell_type": "code",
   "execution_count": 1,
   "id": "31d33fec-3d12-4ce4-8b4b-854206e380de",
   "metadata": {
    "tags": []
   },
   "outputs": [],
   "source": [
    "from pyspark.sql.session import SparkSession\n",
    "from pyspark.sql import *\n",
    "from pyspark.sql.types import *"
   ]
  },
  {
   "cell_type": "code",
   "execution_count": 2,
   "id": "f722f9a3-2fc2-4bc3-879d-b0e52c6b1555",
   "metadata": {
    "tags": []
   },
   "outputs": [],
   "source": [
    "spark = SparkSession.builder.appName(\"SparkPractice\").getOrCreate()"
   ]
  },
  {
   "cell_type": "code",
   "execution_count": 3,
   "id": "33bb4769-b2cb-4280-be4a-15fb030eb77f",
   "metadata": {
    "tags": []
   },
   "outputs": [
    {
     "data": {
      "text/html": [
       "\n",
       "            <div>\n",
       "                <p><b>SparkSession - in-memory</b></p>\n",
       "                \n",
       "        <div>\n",
       "            <p><b>SparkContext</b></p>\n",
       "\n",
       "            <p><a href=\"http://DESKTOP-QPQ92SI:4040\">Spark UI</a></p>\n",
       "\n",
       "            <dl>\n",
       "              <dt>Version</dt>\n",
       "                <dd><code>v3.4.1</code></dd>\n",
       "              <dt>Master</dt>\n",
       "                <dd><code>local[*]</code></dd>\n",
       "              <dt>AppName</dt>\n",
       "                <dd><code>SparkPractice</code></dd>\n",
       "            </dl>\n",
       "        </div>\n",
       "        \n",
       "            </div>\n",
       "        "
      ],
      "text/plain": [
       "<pyspark.sql.session.SparkSession at 0x18b026a0a90>"
      ]
     },
     "execution_count": 3,
     "metadata": {},
     "output_type": "execute_result"
    }
   ],
   "source": [
    "spark"
   ]
  },
  {
   "cell_type": "code",
   "execution_count": 4,
   "id": "e8b1c630-372b-4435-84bd-0713323d04fe",
   "metadata": {},
   "outputs": [],
   "source": [
    "data = [(1, \"kamal\"), (2, \"chanda\")]\n",
    "spark_df = spark.createDataFrame(data=data)"
   ]
  },
  {
   "cell_type": "code",
   "execution_count": 5,
   "id": "63c1f900",
   "metadata": {
    "scrolled": true
   },
   "outputs": [
    {
     "name": "stdout",
     "output_type": "stream",
     "text": [
      "root\n",
      " |-- _1: long (nullable = true)\n",
      " |-- _2: string (nullable = true)\n",
      "\n"
     ]
    }
   ],
   "source": [
    "spark_df.printSchema()"
   ]
  },
  {
   "cell_type": "code",
   "execution_count": 10,
   "id": "3523f814",
   "metadata": {},
   "outputs": [
    {
     "name": "stdout",
     "output_type": "stream",
     "text": [
      "+---+------+\n",
      "| _1|    _2|\n",
      "+---+------+\n",
      "|  1| kamal|\n",
      "|  2|chanda|\n",
      "+---+------+\n",
      "\n"
     ]
    }
   ],
   "source": [
    "spark_df.show()"
   ]
  },
  {
   "cell_type": "code",
   "execution_count": 11,
   "id": "602a41ba",
   "metadata": {},
   "outputs": [
    {
     "data": {
      "text/plain": [
       "DataFrame[_1: bigint, _2: string]"
      ]
     },
     "metadata": {},
     "output_type": "display_data"
    }
   ],
   "source": [
    "display(spark_df)"
   ]
  },
  {
   "cell_type": "code",
   "execution_count": 12,
   "id": "03607e1a",
   "metadata": {},
   "outputs": [
    {
     "data": {
      "text/plain": [
       "list"
      ]
     },
     "execution_count": 12,
     "metadata": {},
     "output_type": "execute_result"
    }
   ],
   "source": [
    "type(data)"
   ]
  },
  {
   "cell_type": "code",
   "execution_count": 13,
   "id": "4ec5ef43",
   "metadata": {},
   "outputs": [],
   "source": [
    "data = [{\"id\": 1, \"name\": \"kamal\"},\n",
    "       {\"id\": 2, \"name\": \"chanda\"},\n",
    "       {\"id\": 3, \"name\": \"durga\"},\n",
    "       {\"id\": 4, \"name\": \"somil\"}]"
   ]
  },
  {
   "cell_type": "code",
   "execution_count": 14,
   "id": "b4069754",
   "metadata": {},
   "outputs": [
    {
     "data": {
      "text/plain": [
       "list"
      ]
     },
     "execution_count": 14,
     "metadata": {},
     "output_type": "execute_result"
    }
   ],
   "source": [
    "type(data)"
   ]
  },
  {
   "cell_type": "code",
   "execution_count": 15,
   "id": "6311f65f-7e82-4636-8d88-026135300359",
   "metadata": {},
   "outputs": [],
   "source": [
    "df = spark.createDataFrame(data=data)"
   ]
  },
  {
   "cell_type": "code",
   "execution_count": 16,
   "id": "ef70f903",
   "metadata": {
    "scrolled": true
   },
   "outputs": [
    {
     "name": "stdout",
     "output_type": "stream",
     "text": [
      "root\n",
      " |-- id: long (nullable = true)\n",
      " |-- name: string (nullable = true)\n",
      "\n"
     ]
    }
   ],
   "source": [
    "df.printSchema()"
   ]
  },
  {
   "cell_type": "code",
   "execution_count": 17,
   "id": "8bb4330b",
   "metadata": {},
   "outputs": [
    {
     "name": "stdout",
     "output_type": "stream",
     "text": [
      "+---+------+\n",
      "| id|  name|\n",
      "+---+------+\n",
      "|  1| kamal|\n",
      "|  2|chanda|\n",
      "|  3| durga|\n",
      "|  4| somil|\n",
      "+---+------+\n",
      "\n"
     ]
    }
   ],
   "source": [
    "df.show()"
   ]
  },
  {
   "cell_type": "code",
   "execution_count": 34,
   "id": "bacf63b9",
   "metadata": {},
   "outputs": [],
   "source": [
    "\n",
    "columns = [\"language\",\"users_count\"]\n",
    "data = [(\"Java\", 20000), (\"Python\", 100000), (\"Scala\", 3000)]"
   ]
  },
  {
   "cell_type": "code",
   "execution_count": 37,
   "id": "f0ca4df7",
   "metadata": {},
   "outputs": [],
   "source": [
    "df_1 = spark.createDataFrame(data=data, schema=columns)"
   ]
  },
  {
   "cell_type": "code",
   "execution_count": 38,
   "id": "920b957b",
   "metadata": {},
   "outputs": [
    {
     "name": "stdout",
     "output_type": "stream",
     "text": [
      "+--------+-----------+\n",
      "|language|users_count|\n",
      "+--------+-----------+\n",
      "|    Java|      20000|\n",
      "|  Python|     100000|\n",
      "|   Scala|       3000|\n",
      "+--------+-----------+\n",
      "\n"
     ]
    }
   ],
   "source": [
    "df_1.show()"
   ]
  },
  {
   "cell_type": "code",
   "execution_count": 41,
   "id": "85e5a72c",
   "metadata": {},
   "outputs": [
    {
     "name": "stdout",
     "output_type": "stream",
     "text": [
      "Enter Year >> 2023\n",
      "                                  2023\n",
      "\n",
      "      January                   February                   March\n",
      "Mo Tu We Th Fr Sa Su      Mo Tu We Th Fr Sa Su      Mo Tu We Th Fr Sa Su\n",
      "                   1             1  2  3  4  5             1  2  3  4  5\n",
      " 2  3  4  5  6  7  8       6  7  8  9 10 11 12       6  7  8  9 10 11 12\n",
      " 9 10 11 12 13 14 15      13 14 15 16 17 18 19      13 14 15 16 17 18 19\n",
      "16 17 18 19 20 21 22      20 21 22 23 24 25 26      20 21 22 23 24 25 26\n",
      "23 24 25 26 27 28 29      27 28                     27 28 29 30 31\n",
      "30 31\n",
      "\n",
      "       April                      May                       June\n",
      "Mo Tu We Th Fr Sa Su      Mo Tu We Th Fr Sa Su      Mo Tu We Th Fr Sa Su\n",
      "                1  2       1  2  3  4  5  6  7                1  2  3  4\n",
      " 3  4  5  6  7  8  9       8  9 10 11 12 13 14       5  6  7  8  9 10 11\n",
      "10 11 12 13 14 15 16      15 16 17 18 19 20 21      12 13 14 15 16 17 18\n",
      "17 18 19 20 21 22 23      22 23 24 25 26 27 28      19 20 21 22 23 24 25\n",
      "24 25 26 27 28 29 30      29 30 31                  26 27 28 29 30\n",
      "\n",
      "        July                     August                  September\n",
      "Mo Tu We Th Fr Sa Su      Mo Tu We Th Fr Sa Su      Mo Tu We Th Fr Sa Su\n",
      "                1  2          1  2  3  4  5  6                   1  2  3\n",
      " 3  4  5  6  7  8  9       7  8  9 10 11 12 13       4  5  6  7  8  9 10\n",
      "10 11 12 13 14 15 16      14 15 16 17 18 19 20      11 12 13 14 15 16 17\n",
      "17 18 19 20 21 22 23      21 22 23 24 25 26 27      18 19 20 21 22 23 24\n",
      "24 25 26 27 28 29 30      28 29 30 31               25 26 27 28 29 30\n",
      "31\n",
      "\n",
      "      October                   November                  December\n",
      "Mo Tu We Th Fr Sa Su      Mo Tu We Th Fr Sa Su      Mo Tu We Th Fr Sa Su\n",
      "                   1             1  2  3  4  5                   1  2  3\n",
      " 2  3  4  5  6  7  8       6  7  8  9 10 11 12       4  5  6  7  8  9 10\n",
      " 9 10 11 12 13 14 15      13 14 15 16 17 18 19      11 12 13 14 15 16 17\n",
      "16 17 18 19 20 21 22      20 21 22 23 24 25 26      18 19 20 21 22 23 24\n",
      "23 24 25 26 27 28 29      27 28 29 30               25 26 27 28 29 30 31\n",
      "30 31\n",
      "\n"
     ]
    }
   ],
   "source": [
    "from calendar import *\n",
    "year = int(input(\"Enter Year >> \"))\n",
    "print(calendar(year))"
   ]
  },
  {
   "cell_type": "code",
   "execution_count": null,
   "id": "477610ea",
   "metadata": {},
   "outputs": [],
   "source": []
  },
  {
   "cell_type": "code",
   "execution_count": null,
   "id": "55898168",
   "metadata": {},
   "outputs": [],
   "source": []
  },
  {
   "cell_type": "code",
   "execution_count": 4,
   "id": "5b3c35b6",
   "metadata": {},
   "outputs": [
    {
     "data": {
      "text/plain": [
       "sys.version_info(major=3, minor=11, micro=4, releaselevel='final', serial=0)"
      ]
     },
     "execution_count": 4,
     "metadata": {},
     "output_type": "execute_result"
    }
   ],
   "source": [
    "import sys\n",
    "sys.version_info"
   ]
  },
  {
   "cell_type": "code",
   "execution_count": 9,
   "id": "b24b7498",
   "metadata": {
    "scrolled": true
   },
   "outputs": [
    {
     "name": "stdout",
     "output_type": "stream",
     "text": [
      "3.11.4\n"
     ]
    }
   ],
   "source": [
    "from platform import python_version\n",
    "\n",
    "print(python_version())"
   ]
  },
  {
   "cell_type": "code",
   "execution_count": 25,
   "id": "aba65d2c",
   "metadata": {},
   "outputs": [
    {
     "data": {
      "text/plain": [
       "'3.11.4'"
      ]
     },
     "execution_count": 25,
     "metadata": {},
     "output_type": "execute_result"
    }
   ],
   "source": [
    "from platform import python_version\n",
    "\n",
    "python_version()"
   ]
  },
  {
   "cell_type": "code",
   "execution_count": 26,
   "id": "2fefc824",
   "metadata": {
    "scrolled": true
   },
   "outputs": [
    {
     "name": "stdout",
     "output_type": "stream",
     "text": [
      "C:\\Users\\kamal\\anaconda3\\python.exe\n",
      "3.11.4 | packaged by Anaconda, Inc. | (main, Jul  5 2023, 13:38:37) [MSC v.1916 64 bit (AMD64)]\n",
      "sys.version_info(major=3, minor=11, micro=4, releaselevel='final', serial=0)\n"
     ]
    }
   ],
   "source": [
    "import sys\n",
    "print(sys.executable)\n",
    "print(sys.version)\n",
    "print(sys.version_info)"
   ]
  },
  {
   "cell_type": "code",
   "execution_count": 12,
   "id": "a8c7a37e",
   "metadata": {
    "scrolled": false
   },
   "outputs": [
    {
     "name": "stdout",
     "output_type": "stream",
     "text": [
      "Python 3.11.4\n"
     ]
    }
   ],
   "source": [
    "!python -V "
   ]
  },
  {
   "cell_type": "code",
   "execution_count": 30,
   "id": "8ed93152",
   "metadata": {
    "scrolled": true
   },
   "outputs": [
    {
     "name": "stdout",
     "output_type": "stream",
     "text": [
      "Python 3.11.4\n"
     ]
    }
   ],
   "source": [
    "!python --version"
   ]
  }
 ],
 "metadata": {
  "kernelspec": {
   "display_name": "Python 3 (ipykernel)",
   "language": "python",
   "name": "python3"
  },
  "language_info": {
   "codemirror_mode": {
    "name": "ipython",
    "version": 3
   },
   "file_extension": ".py",
   "mimetype": "text/x-python",
   "name": "python",
   "nbconvert_exporter": "python",
   "pygments_lexer": "ipython3",
   "version": "3.11.4"
  }
 },
 "nbformat": 4,
 "nbformat_minor": 5
}
